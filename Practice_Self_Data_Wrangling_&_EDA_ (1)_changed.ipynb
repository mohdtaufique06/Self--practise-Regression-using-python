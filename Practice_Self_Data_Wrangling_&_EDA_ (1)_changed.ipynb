{
  "nbformat": 4,
  "nbformat_minor": 0,
  "metadata": {
    "colab": {
      "provenance": []
    },
    "kernelspec": {
      "name": "python3",
      "display_name": "Python 3"
    },
    "language_info": {
      "name": "python"
    }
  },
  "cells": [
    {
      "cell_type": "code",
      "source": [
        "import pandas as pd\n",
        "import numpy as np"
      ],
      "metadata": {
        "id": "ERMhBiFMvVmV"
      },
      "execution_count": null,
      "outputs": []
    },
    {
      "cell_type": "code",
      "execution_count": null,
      "metadata": {
        "colab": {
          "base_uri": "https://localhost:8080/"
        },
        "id": "XqOBajhuumrq",
        "outputId": "fed9e614-c861-480f-c534-7f6a1910682e"
      },
      "outputs": [
        {
          "output_type": "stream",
          "name": "stdout",
          "text": [
            "Drive already mounted at /content/drive; to attempt to forcibly remount, call drive.mount(\"/content/drive\", force_remount=True).\n"
          ]
        }
      ],
      "source": [
        "from google.colab import drive\n",
        "drive.mount('/content/drive')"
      ]
    },
    {
      "cell_type": "code",
      "source": [
        "data=pd.read_csv(\"/content/drive/MyDrive/dat/Copy of imdb_data.csv\")\n",
        "data.shape"
      ],
      "metadata": {
        "colab": {
          "base_uri": "https://localhost:8080/"
        },
        "id": "TKdAHtGhu7rl",
        "outputId": "0999c629-37ed-4ea7-9762-349cd865b770"
      },
      "execution_count": null,
      "outputs": [
        {
          "output_type": "execute_result",
          "data": {
            "text/plain": [
              "(3000, 23)"
            ]
          },
          "metadata": {},
          "execution_count": 3
        }
      ]
    },
    {
      "cell_type": "code",
      "source": [
        "data.head().T"
      ],
      "metadata": {
        "colab": {
          "base_uri": "https://localhost:8080/",
          "height": 1000
        },
        "id": "lag0BautvTJv",
        "outputId": "5a2c180b-6a27-48a5-e41d-dbeb55f2ac2e"
      },
      "execution_count": null,
      "outputs": [
        {
          "output_type": "execute_result",
          "data": {
            "text/plain": [
              "                                                                       0  \\\n",
              "id                                                                     1   \n",
              "belongs_to_collection  [{'id': 313576, 'name': 'Hot Tub Time Machine ...   \n",
              "budget                                                          14000000   \n",
              "genres                                    [{'id': 35, 'name': 'Comedy'}]   \n",
              "homepage                                                             NaN   \n",
              "imdb_id                                                        tt2637294   \n",
              "original_language                                                     en   \n",
              "original_title                                    Hot Tub Time Machine 2   \n",
              "overview               When Lou, who has become the \"father of the In...   \n",
              "popularity                                                      6.575393   \n",
              "poster_path                             /tQtWuwvMf0hCc2QR2tkolwl7c3c.jpg   \n",
              "production_companies   [{'name': 'Paramount Pictures', 'id': 4}, {'na...   \n",
              "production_countries   [{'iso_3166_1': 'US', 'name': 'United States o...   \n",
              "release_date                                                     2/20/15   \n",
              "runtime                                                             93.0   \n",
              "spoken_languages                [{'iso_639_1': 'en', 'name': 'English'}]   \n",
              "status                                                          Released   \n",
              "tagline                The Laws of Space and Time are About to be Vio...   \n",
              "title                                             Hot Tub Time Machine 2   \n",
              "Keywords               [{'id': 4379, 'name': 'time travel'}, {'id': 9...   \n",
              "cast                   [{'cast_id': 4, 'character': 'Lou', 'credit_id...   \n",
              "crew                   [{'credit_id': '59ac067c92514107af02c8c8', 'de...   \n",
              "revenue                                                         12314651   \n",
              "\n",
              "                                                                       1  \\\n",
              "id                                                                     2   \n",
              "belongs_to_collection  [{'id': 107674, 'name': 'The Princess Diaries ...   \n",
              "budget                                                          40000000   \n",
              "genres                 [{'id': 35, 'name': 'Comedy'}, {'id': 18, 'nam...   \n",
              "homepage                                                             NaN   \n",
              "imdb_id                                                        tt0368933   \n",
              "original_language                                                     en   \n",
              "original_title                  The Princess Diaries 2: Royal Engagement   \n",
              "overview               Mia Thermopolis is now a college graduate and ...   \n",
              "popularity                                                      8.248895   \n",
              "poster_path                             /w9Z7A0GHEhIp7etpj0vyKOeU1Wx.jpg   \n",
              "production_companies         [{'name': 'Walt Disney Pictures', 'id': 2}]   \n",
              "production_countries   [{'iso_3166_1': 'US', 'name': 'United States o...   \n",
              "release_date                                                      8/6/04   \n",
              "runtime                                                            113.0   \n",
              "spoken_languages                [{'iso_639_1': 'en', 'name': 'English'}]   \n",
              "status                                                          Released   \n",
              "tagline                It can take a lifetime to find true love; she'...   \n",
              "title                           The Princess Diaries 2: Royal Engagement   \n",
              "Keywords               [{'id': 2505, 'name': 'coronation'}, {'id': 42...   \n",
              "cast                   [{'cast_id': 1, 'character': 'Mia Thermopolis'...   \n",
              "crew                   [{'credit_id': '52fe43fe9251416c7502563d', 'de...   \n",
              "revenue                                                         95149435   \n",
              "\n",
              "                                                                       2  \\\n",
              "id                                                                     3   \n",
              "belongs_to_collection                                                NaN   \n",
              "budget                                                           3300000   \n",
              "genres                                     [{'id': 18, 'name': 'Drama'}]   \n",
              "homepage                               http://sonyclassics.com/whiplash/   \n",
              "imdb_id                                                        tt2582802   \n",
              "original_language                                                     en   \n",
              "original_title                                                  Whiplash   \n",
              "overview               Under the direction of a ruthless instructor, ...   \n",
              "popularity                                                      64.29999   \n",
              "poster_path                             /lIv1QinFqz4dlp5U4lQ6HaiskOZ.jpg   \n",
              "production_companies   [{'name': 'Bold Films', 'id': 2266}, {'name': ...   \n",
              "production_countries   [{'iso_3166_1': 'US', 'name': 'United States o...   \n",
              "release_date                                                    10/10/14   \n",
              "runtime                                                            105.0   \n",
              "spoken_languages                [{'iso_639_1': 'en', 'name': 'English'}]   \n",
              "status                                                          Released   \n",
              "tagline                  The road to greatness can take you to the edge.   \n",
              "title                                                           Whiplash   \n",
              "Keywords               [{'id': 1416, 'name': 'jazz'}, {'id': 1523, 'n...   \n",
              "cast                   [{'cast_id': 5, 'character': 'Andrew Neimann',...   \n",
              "crew                   [{'credit_id': '54d5356ec3a3683ba0000039', 'de...   \n",
              "revenue                                                         13092000   \n",
              "\n",
              "                                                                       3  \\\n",
              "id                                                                     4   \n",
              "belongs_to_collection                                                NaN   \n",
              "budget                                                           1200000   \n",
              "genres                 [{'id': 53, 'name': 'Thriller'}, {'id': 18, 'n...   \n",
              "homepage                                      http://kahaanithefilm.com/   \n",
              "imdb_id                                                        tt1821480   \n",
              "original_language                                                     hi   \n",
              "original_title                                                   Kahaani   \n",
              "overview               Vidya Bagchi (Vidya Balan) arrives in Kolkata ...   \n",
              "popularity                                                      3.174936   \n",
              "poster_path                             /aTXRaPrWSinhcmCrcfJK17urp3F.jpg   \n",
              "production_companies                                                 NaN   \n",
              "production_countries             [{'iso_3166_1': 'IN', 'name': 'India'}]   \n",
              "release_date                                                      3/9/12   \n",
              "runtime                                                            122.0   \n",
              "spoken_languages       [{'iso_639_1': 'en', 'name': 'English'}, {'iso...   \n",
              "status                                                          Released   \n",
              "tagline                                                              NaN   \n",
              "title                                                            Kahaani   \n",
              "Keywords               [{'id': 10092, 'name': 'mystery'}, {'id': 1054...   \n",
              "cast                   [{'cast_id': 1, 'character': 'Vidya Bagchi', '...   \n",
              "crew                   [{'credit_id': '52fe48779251416c9108d6eb', 'de...   \n",
              "revenue                                                         16000000   \n",
              "\n",
              "                                                                       4  \n",
              "id                                                                     5  \n",
              "belongs_to_collection                                                NaN  \n",
              "budget                                                                 0  \n",
              "genres                 [{'id': 28, 'name': 'Action'}, {'id': 53, 'nam...  \n",
              "homepage                                                             NaN  \n",
              "imdb_id                                                        tt1380152  \n",
              "original_language                                                     ko  \n",
              "original_title                                                      마린보이  \n",
              "overview               Marine Boy is the story of a former national s...  \n",
              "popularity                                                       1.14807  \n",
              "poster_path                             /m22s7zvkVFDU9ir56PiiqIEWFdT.jpg  \n",
              "production_companies                                                 NaN  \n",
              "production_countries       [{'iso_3166_1': 'KR', 'name': 'South Korea'}]  \n",
              "release_date                                                      2/5/09  \n",
              "runtime                                                            118.0  \n",
              "spoken_languages                [{'iso_639_1': 'ko', 'name': '한국어/조선말'}]  \n",
              "status                                                          Released  \n",
              "tagline                                                              NaN  \n",
              "title                                                         Marine Boy  \n",
              "Keywords                                                             NaN  \n",
              "cast                   [{'cast_id': 3, 'character': 'Chun-soo', 'cred...  \n",
              "crew                   [{'credit_id': '52fe464b9251416c75073b43', 'de...  \n",
              "revenue                                                          3923970  "
            ],
            "text/html": [
              "\n",
              "  <div id=\"df-5eea5fc3-9083-426c-a7c2-20957c9241b4\">\n",
              "    <div class=\"colab-df-container\">\n",
              "      <div>\n",
              "<style scoped>\n",
              "    .dataframe tbody tr th:only-of-type {\n",
              "        vertical-align: middle;\n",
              "    }\n",
              "\n",
              "    .dataframe tbody tr th {\n",
              "        vertical-align: top;\n",
              "    }\n",
              "\n",
              "    .dataframe thead th {\n",
              "        text-align: right;\n",
              "    }\n",
              "</style>\n",
              "<table border=\"1\" class=\"dataframe\">\n",
              "  <thead>\n",
              "    <tr style=\"text-align: right;\">\n",
              "      <th></th>\n",
              "      <th>0</th>\n",
              "      <th>1</th>\n",
              "      <th>2</th>\n",
              "      <th>3</th>\n",
              "      <th>4</th>\n",
              "    </tr>\n",
              "  </thead>\n",
              "  <tbody>\n",
              "    <tr>\n",
              "      <th>id</th>\n",
              "      <td>1</td>\n",
              "      <td>2</td>\n",
              "      <td>3</td>\n",
              "      <td>4</td>\n",
              "      <td>5</td>\n",
              "    </tr>\n",
              "    <tr>\n",
              "      <th>belongs_to_collection</th>\n",
              "      <td>[{'id': 313576, 'name': 'Hot Tub Time Machine ...</td>\n",
              "      <td>[{'id': 107674, 'name': 'The Princess Diaries ...</td>\n",
              "      <td>NaN</td>\n",
              "      <td>NaN</td>\n",
              "      <td>NaN</td>\n",
              "    </tr>\n",
              "    <tr>\n",
              "      <th>budget</th>\n",
              "      <td>14000000</td>\n",
              "      <td>40000000</td>\n",
              "      <td>3300000</td>\n",
              "      <td>1200000</td>\n",
              "      <td>0</td>\n",
              "    </tr>\n",
              "    <tr>\n",
              "      <th>genres</th>\n",
              "      <td>[{'id': 35, 'name': 'Comedy'}]</td>\n",
              "      <td>[{'id': 35, 'name': 'Comedy'}, {'id': 18, 'nam...</td>\n",
              "      <td>[{'id': 18, 'name': 'Drama'}]</td>\n",
              "      <td>[{'id': 53, 'name': 'Thriller'}, {'id': 18, 'n...</td>\n",
              "      <td>[{'id': 28, 'name': 'Action'}, {'id': 53, 'nam...</td>\n",
              "    </tr>\n",
              "    <tr>\n",
              "      <th>homepage</th>\n",
              "      <td>NaN</td>\n",
              "      <td>NaN</td>\n",
              "      <td>http://sonyclassics.com/whiplash/</td>\n",
              "      <td>http://kahaanithefilm.com/</td>\n",
              "      <td>NaN</td>\n",
              "    </tr>\n",
              "    <tr>\n",
              "      <th>imdb_id</th>\n",
              "      <td>tt2637294</td>\n",
              "      <td>tt0368933</td>\n",
              "      <td>tt2582802</td>\n",
              "      <td>tt1821480</td>\n",
              "      <td>tt1380152</td>\n",
              "    </tr>\n",
              "    <tr>\n",
              "      <th>original_language</th>\n",
              "      <td>en</td>\n",
              "      <td>en</td>\n",
              "      <td>en</td>\n",
              "      <td>hi</td>\n",
              "      <td>ko</td>\n",
              "    </tr>\n",
              "    <tr>\n",
              "      <th>original_title</th>\n",
              "      <td>Hot Tub Time Machine 2</td>\n",
              "      <td>The Princess Diaries 2: Royal Engagement</td>\n",
              "      <td>Whiplash</td>\n",
              "      <td>Kahaani</td>\n",
              "      <td>마린보이</td>\n",
              "    </tr>\n",
              "    <tr>\n",
              "      <th>overview</th>\n",
              "      <td>When Lou, who has become the \"father of the In...</td>\n",
              "      <td>Mia Thermopolis is now a college graduate and ...</td>\n",
              "      <td>Under the direction of a ruthless instructor, ...</td>\n",
              "      <td>Vidya Bagchi (Vidya Balan) arrives in Kolkata ...</td>\n",
              "      <td>Marine Boy is the story of a former national s...</td>\n",
              "    </tr>\n",
              "    <tr>\n",
              "      <th>popularity</th>\n",
              "      <td>6.575393</td>\n",
              "      <td>8.248895</td>\n",
              "      <td>64.29999</td>\n",
              "      <td>3.174936</td>\n",
              "      <td>1.14807</td>\n",
              "    </tr>\n",
              "    <tr>\n",
              "      <th>poster_path</th>\n",
              "      <td>/tQtWuwvMf0hCc2QR2tkolwl7c3c.jpg</td>\n",
              "      <td>/w9Z7A0GHEhIp7etpj0vyKOeU1Wx.jpg</td>\n",
              "      <td>/lIv1QinFqz4dlp5U4lQ6HaiskOZ.jpg</td>\n",
              "      <td>/aTXRaPrWSinhcmCrcfJK17urp3F.jpg</td>\n",
              "      <td>/m22s7zvkVFDU9ir56PiiqIEWFdT.jpg</td>\n",
              "    </tr>\n",
              "    <tr>\n",
              "      <th>production_companies</th>\n",
              "      <td>[{'name': 'Paramount Pictures', 'id': 4}, {'na...</td>\n",
              "      <td>[{'name': 'Walt Disney Pictures', 'id': 2}]</td>\n",
              "      <td>[{'name': 'Bold Films', 'id': 2266}, {'name': ...</td>\n",
              "      <td>NaN</td>\n",
              "      <td>NaN</td>\n",
              "    </tr>\n",
              "    <tr>\n",
              "      <th>production_countries</th>\n",
              "      <td>[{'iso_3166_1': 'US', 'name': 'United States o...</td>\n",
              "      <td>[{'iso_3166_1': 'US', 'name': 'United States o...</td>\n",
              "      <td>[{'iso_3166_1': 'US', 'name': 'United States o...</td>\n",
              "      <td>[{'iso_3166_1': 'IN', 'name': 'India'}]</td>\n",
              "      <td>[{'iso_3166_1': 'KR', 'name': 'South Korea'}]</td>\n",
              "    </tr>\n",
              "    <tr>\n",
              "      <th>release_date</th>\n",
              "      <td>2/20/15</td>\n",
              "      <td>8/6/04</td>\n",
              "      <td>10/10/14</td>\n",
              "      <td>3/9/12</td>\n",
              "      <td>2/5/09</td>\n",
              "    </tr>\n",
              "    <tr>\n",
              "      <th>runtime</th>\n",
              "      <td>93.0</td>\n",
              "      <td>113.0</td>\n",
              "      <td>105.0</td>\n",
              "      <td>122.0</td>\n",
              "      <td>118.0</td>\n",
              "    </tr>\n",
              "    <tr>\n",
              "      <th>spoken_languages</th>\n",
              "      <td>[{'iso_639_1': 'en', 'name': 'English'}]</td>\n",
              "      <td>[{'iso_639_1': 'en', 'name': 'English'}]</td>\n",
              "      <td>[{'iso_639_1': 'en', 'name': 'English'}]</td>\n",
              "      <td>[{'iso_639_1': 'en', 'name': 'English'}, {'iso...</td>\n",
              "      <td>[{'iso_639_1': 'ko', 'name': '한국어/조선말'}]</td>\n",
              "    </tr>\n",
              "    <tr>\n",
              "      <th>status</th>\n",
              "      <td>Released</td>\n",
              "      <td>Released</td>\n",
              "      <td>Released</td>\n",
              "      <td>Released</td>\n",
              "      <td>Released</td>\n",
              "    </tr>\n",
              "    <tr>\n",
              "      <th>tagline</th>\n",
              "      <td>The Laws of Space and Time are About to be Vio...</td>\n",
              "      <td>It can take a lifetime to find true love; she'...</td>\n",
              "      <td>The road to greatness can take you to the edge.</td>\n",
              "      <td>NaN</td>\n",
              "      <td>NaN</td>\n",
              "    </tr>\n",
              "    <tr>\n",
              "      <th>title</th>\n",
              "      <td>Hot Tub Time Machine 2</td>\n",
              "      <td>The Princess Diaries 2: Royal Engagement</td>\n",
              "      <td>Whiplash</td>\n",
              "      <td>Kahaani</td>\n",
              "      <td>Marine Boy</td>\n",
              "    </tr>\n",
              "    <tr>\n",
              "      <th>Keywords</th>\n",
              "      <td>[{'id': 4379, 'name': 'time travel'}, {'id': 9...</td>\n",
              "      <td>[{'id': 2505, 'name': 'coronation'}, {'id': 42...</td>\n",
              "      <td>[{'id': 1416, 'name': 'jazz'}, {'id': 1523, 'n...</td>\n",
              "      <td>[{'id': 10092, 'name': 'mystery'}, {'id': 1054...</td>\n",
              "      <td>NaN</td>\n",
              "    </tr>\n",
              "    <tr>\n",
              "      <th>cast</th>\n",
              "      <td>[{'cast_id': 4, 'character': 'Lou', 'credit_id...</td>\n",
              "      <td>[{'cast_id': 1, 'character': 'Mia Thermopolis'...</td>\n",
              "      <td>[{'cast_id': 5, 'character': 'Andrew Neimann',...</td>\n",
              "      <td>[{'cast_id': 1, 'character': 'Vidya Bagchi', '...</td>\n",
              "      <td>[{'cast_id': 3, 'character': 'Chun-soo', 'cred...</td>\n",
              "    </tr>\n",
              "    <tr>\n",
              "      <th>crew</th>\n",
              "      <td>[{'credit_id': '59ac067c92514107af02c8c8', 'de...</td>\n",
              "      <td>[{'credit_id': '52fe43fe9251416c7502563d', 'de...</td>\n",
              "      <td>[{'credit_id': '54d5356ec3a3683ba0000039', 'de...</td>\n",
              "      <td>[{'credit_id': '52fe48779251416c9108d6eb', 'de...</td>\n",
              "      <td>[{'credit_id': '52fe464b9251416c75073b43', 'de...</td>\n",
              "    </tr>\n",
              "    <tr>\n",
              "      <th>revenue</th>\n",
              "      <td>12314651</td>\n",
              "      <td>95149435</td>\n",
              "      <td>13092000</td>\n",
              "      <td>16000000</td>\n",
              "      <td>3923970</td>\n",
              "    </tr>\n",
              "  </tbody>\n",
              "</table>\n",
              "</div>\n",
              "      <button class=\"colab-df-convert\" onclick=\"convertToInteractive('df-5eea5fc3-9083-426c-a7c2-20957c9241b4')\"\n",
              "              title=\"Convert this dataframe to an interactive table.\"\n",
              "              style=\"display:none;\">\n",
              "        \n",
              "  <svg xmlns=\"http://www.w3.org/2000/svg\" height=\"24px\"viewBox=\"0 0 24 24\"\n",
              "       width=\"24px\">\n",
              "    <path d=\"M0 0h24v24H0V0z\" fill=\"none\"/>\n",
              "    <path d=\"M18.56 5.44l.94 2.06.94-2.06 2.06-.94-2.06-.94-.94-2.06-.94 2.06-2.06.94zm-11 1L8.5 8.5l.94-2.06 2.06-.94-2.06-.94L8.5 2.5l-.94 2.06-2.06.94zm10 10l.94 2.06.94-2.06 2.06-.94-2.06-.94-.94-2.06-.94 2.06-2.06.94z\"/><path d=\"M17.41 7.96l-1.37-1.37c-.4-.4-.92-.59-1.43-.59-.52 0-1.04.2-1.43.59L10.3 9.45l-7.72 7.72c-.78.78-.78 2.05 0 2.83L4 21.41c.39.39.9.59 1.41.59.51 0 1.02-.2 1.41-.59l7.78-7.78 2.81-2.81c.8-.78.8-2.07 0-2.86zM5.41 20L4 18.59l7.72-7.72 1.47 1.35L5.41 20z\"/>\n",
              "  </svg>\n",
              "      </button>\n",
              "      \n",
              "  <style>\n",
              "    .colab-df-container {\n",
              "      display:flex;\n",
              "      flex-wrap:wrap;\n",
              "      gap: 12px;\n",
              "    }\n",
              "\n",
              "    .colab-df-convert {\n",
              "      background-color: #E8F0FE;\n",
              "      border: none;\n",
              "      border-radius: 50%;\n",
              "      cursor: pointer;\n",
              "      display: none;\n",
              "      fill: #1967D2;\n",
              "      height: 32px;\n",
              "      padding: 0 0 0 0;\n",
              "      width: 32px;\n",
              "    }\n",
              "\n",
              "    .colab-df-convert:hover {\n",
              "      background-color: #E2EBFA;\n",
              "      box-shadow: 0px 1px 2px rgba(60, 64, 67, 0.3), 0px 1px 3px 1px rgba(60, 64, 67, 0.15);\n",
              "      fill: #174EA6;\n",
              "    }\n",
              "\n",
              "    [theme=dark] .colab-df-convert {\n",
              "      background-color: #3B4455;\n",
              "      fill: #D2E3FC;\n",
              "    }\n",
              "\n",
              "    [theme=dark] .colab-df-convert:hover {\n",
              "      background-color: #434B5C;\n",
              "      box-shadow: 0px 1px 3px 1px rgba(0, 0, 0, 0.15);\n",
              "      filter: drop-shadow(0px 1px 2px rgba(0, 0, 0, 0.3));\n",
              "      fill: #FFFFFF;\n",
              "    }\n",
              "  </style>\n",
              "\n",
              "      <script>\n",
              "        const buttonEl =\n",
              "          document.querySelector('#df-5eea5fc3-9083-426c-a7c2-20957c9241b4 button.colab-df-convert');\n",
              "        buttonEl.style.display =\n",
              "          google.colab.kernel.accessAllowed ? 'block' : 'none';\n",
              "\n",
              "        async function convertToInteractive(key) {\n",
              "          const element = document.querySelector('#df-5eea5fc3-9083-426c-a7c2-20957c9241b4');\n",
              "          const dataTable =\n",
              "            await google.colab.kernel.invokeFunction('convertToInteractive',\n",
              "                                                     [key], {});\n",
              "          if (!dataTable) return;\n",
              "\n",
              "          const docLinkHtml = 'Like what you see? Visit the ' +\n",
              "            '<a target=\"_blank\" href=https://colab.research.google.com/notebooks/data_table.ipynb>data table notebook</a>'\n",
              "            + ' to learn more about interactive tables.';\n",
              "          element.innerHTML = '';\n",
              "          dataTable['output_type'] = 'display_data';\n",
              "          await google.colab.output.renderOutput(dataTable, element);\n",
              "          const docLink = document.createElement('div');\n",
              "          docLink.innerHTML = docLinkHtml;\n",
              "          element.appendChild(docLink);\n",
              "        }\n",
              "      </script>\n",
              "    </div>\n",
              "  </div>\n",
              "  "
            ]
          },
          "metadata": {},
          "execution_count": 4
        }
      ]
    },
    {
      "cell_type": "code",
      "source": [
        "data.columns"
      ],
      "metadata": {
        "colab": {
          "base_uri": "https://localhost:8080/"
        },
        "id": "w7OJQfZpv82W",
        "outputId": "daf4fdb5-a1c6-4a13-b96a-5bb39b61b161"
      },
      "execution_count": null,
      "outputs": [
        {
          "output_type": "execute_result",
          "data": {
            "text/plain": [
              "Index(['id', 'belongs_to_collection', 'budget', 'genres', 'homepage',\n",
              "       'imdb_id', 'original_language', 'original_title', 'overview',\n",
              "       'popularity', 'poster_path', 'production_companies',\n",
              "       'production_countries', 'release_date', 'runtime', 'spoken_languages',\n",
              "       'status', 'tagline', 'title', 'Keywords', 'cast', 'crew', 'revenue'],\n",
              "      dtype='object')"
            ]
          },
          "metadata": {},
          "execution_count": 5
        }
      ]
    },
    {
      "cell_type": "code",
      "source": [
        "%time data.info()"
      ],
      "metadata": {
        "colab": {
          "base_uri": "https://localhost:8080/"
        },
        "id": "z7FgcuaSxRTG",
        "outputId": "eef9ff9f-3a93-4e41-c84e-11e95cf65b9e"
      },
      "execution_count": null,
      "outputs": [
        {
          "output_type": "stream",
          "name": "stdout",
          "text": [
            "<class 'pandas.core.frame.DataFrame'>\n",
            "RangeIndex: 3000 entries, 0 to 2999\n",
            "Data columns (total 23 columns):\n",
            " #   Column                 Non-Null Count  Dtype  \n",
            "---  ------                 --------------  -----  \n",
            " 0   id                     3000 non-null   int64  \n",
            " 1   belongs_to_collection  604 non-null    object \n",
            " 2   budget                 3000 non-null   int64  \n",
            " 3   genres                 2993 non-null   object \n",
            " 4   homepage               946 non-null    object \n",
            " 5   imdb_id                3000 non-null   object \n",
            " 6   original_language      3000 non-null   object \n",
            " 7   original_title         3000 non-null   object \n",
            " 8   overview               2992 non-null   object \n",
            " 9   popularity             3000 non-null   float64\n",
            " 10  poster_path            2999 non-null   object \n",
            " 11  production_companies   2844 non-null   object \n",
            " 12  production_countries   2945 non-null   object \n",
            " 13  release_date           3000 non-null   object \n",
            " 14  runtime                2998 non-null   float64\n",
            " 15  spoken_languages       2980 non-null   object \n",
            " 16  status                 3000 non-null   object \n",
            " 17  tagline                2403 non-null   object \n",
            " 18  title                  3000 non-null   object \n",
            " 19  Keywords               2724 non-null   object \n",
            " 20  cast                   2987 non-null   object \n",
            " 21  crew                   2984 non-null   object \n",
            " 22  revenue                3000 non-null   int64  \n",
            "dtypes: float64(2), int64(3), object(18)\n",
            "memory usage: 539.2+ KB\n",
            "CPU times: user 19.4 ms, sys: 878 µs, total: 20.3 ms\n",
            "Wall time: 38.1 ms\n"
          ]
        }
      ]
    },
    {
      "cell_type": "code",
      "source": [
        "columns_to_keep= ['budget', 'genres','original_language', 'original_title','cast', 'crew', 'revenue']"
      ],
      "metadata": {
        "id": "IRNay0TjxaFd"
      },
      "execution_count": null,
      "outputs": []
    },
    {
      "cell_type": "code",
      "source": [
        "data.loc[~data['genres'].isna(),'genres']"
      ],
      "metadata": {
        "colab": {
          "base_uri": "https://localhost:8080/"
        },
        "id": "wApDAXIxx-dq",
        "outputId": "aafa097c-94f5-4e32-c396-cbf4f76599fe"
      },
      "execution_count": null,
      "outputs": [
        {
          "output_type": "execute_result",
          "data": {
            "text/plain": [
              "0                          [{'id': 35, 'name': 'Comedy'}]\n",
              "1       [{'id': 35, 'name': 'Comedy'}, {'id': 18, 'nam...\n",
              "2                           [{'id': 18, 'name': 'Drama'}]\n",
              "3       [{'id': 53, 'name': 'Thriller'}, {'id': 18, 'n...\n",
              "4       [{'id': 28, 'name': 'Action'}, {'id': 53, 'nam...\n",
              "                              ...                        \n",
              "2995    [{'id': 35, 'name': 'Comedy'}, {'id': 10749, '...\n",
              "2996    [{'id': 18, 'name': 'Drama'}, {'id': 10402, 'n...\n",
              "2997    [{'id': 80, 'name': 'Crime'}, {'id': 28, 'name...\n",
              "2998    [{'id': 35, 'name': 'Comedy'}, {'id': 10749, '...\n",
              "2999    [{'id': 53, 'name': 'Thriller'}, {'id': 28, 'n...\n",
              "Name: genres, Length: 2993, dtype: object"
            ]
          },
          "metadata": {},
          "execution_count": 8
        }
      ]
    },
    {
      "cell_type": "markdown",
      "source": [
        "##Map,Apply & Applymap difference with example: These are techniques to apply function to element, column or dataframe.\n",
        "\n",
        "Map: It iterates over each element of a series.\n",
        "df[‘column1’].map(lambda x: 10+x), this will add 10 to each element of column1.\n",
        "df[‘column2’].map(lambda x: ‘AV’+x), this will concatenate “AV“ at the beginning of each element of column2 (column format is string).\n",
        "\n",
        "Apply: As the name suggests, applies a function along any axis of the DataFrame.\n",
        "df[[‘column1’,’column2’]].apply(sum), it will returns the sum of all the values of column1 and column2.\n",
        "\n",
        "ApplyMap: This helps to apply a function to each element of dataframe.\n",
        "func = lambda x: x+2\n",
        "df.applymap(func), it will add 2 to each element of dataframe (all columns of dataframe must be numeric type)"
      ],
      "metadata": {
        "id": "hUtQnGbXhrXZ"
      }
    },
    {
      "cell_type": "code",
      "source": [
        "import pandas as pd\n",
        "import numpy as np"
      ],
      "metadata": {
        "id": "I1Hx6cJF6rLp"
      },
      "execution_count": null,
      "outputs": []
    },
    {
      "cell_type": "code",
      "source": [
        "p=pd.DataFrame({'M':[1,2,3],'N':[7,8,9]})\n",
        "p"
      ],
      "metadata": {
        "colab": {
          "base_uri": "https://localhost:8080/",
          "height": 143
        },
        "id": "NTJn3PpeUjCP",
        "outputId": "1edcdaf5-b3e1-4252-8d0e-03ab4b0a3c0a"
      },
      "execution_count": null,
      "outputs": [
        {
          "output_type": "execute_result",
          "data": {
            "text/plain": [
              "   M  N\n",
              "0  1  7\n",
              "1  2  8\n",
              "2  3  9"
            ],
            "text/html": [
              "\n",
              "  <div id=\"df-24066550-6088-4425-9617-2b752af9e96b\">\n",
              "    <div class=\"colab-df-container\">\n",
              "      <div>\n",
              "<style scoped>\n",
              "    .dataframe tbody tr th:only-of-type {\n",
              "        vertical-align: middle;\n",
              "    }\n",
              "\n",
              "    .dataframe tbody tr th {\n",
              "        vertical-align: top;\n",
              "    }\n",
              "\n",
              "    .dataframe thead th {\n",
              "        text-align: right;\n",
              "    }\n",
              "</style>\n",
              "<table border=\"1\" class=\"dataframe\">\n",
              "  <thead>\n",
              "    <tr style=\"text-align: right;\">\n",
              "      <th></th>\n",
              "      <th>M</th>\n",
              "      <th>N</th>\n",
              "    </tr>\n",
              "  </thead>\n",
              "  <tbody>\n",
              "    <tr>\n",
              "      <th>0</th>\n",
              "      <td>1</td>\n",
              "      <td>7</td>\n",
              "    </tr>\n",
              "    <tr>\n",
              "      <th>1</th>\n",
              "      <td>2</td>\n",
              "      <td>8</td>\n",
              "    </tr>\n",
              "    <tr>\n",
              "      <th>2</th>\n",
              "      <td>3</td>\n",
              "      <td>9</td>\n",
              "    </tr>\n",
              "  </tbody>\n",
              "</table>\n",
              "</div>\n",
              "      <button class=\"colab-df-convert\" onclick=\"convertToInteractive('df-24066550-6088-4425-9617-2b752af9e96b')\"\n",
              "              title=\"Convert this dataframe to an interactive table.\"\n",
              "              style=\"display:none;\">\n",
              "        \n",
              "  <svg xmlns=\"http://www.w3.org/2000/svg\" height=\"24px\"viewBox=\"0 0 24 24\"\n",
              "       width=\"24px\">\n",
              "    <path d=\"M0 0h24v24H0V0z\" fill=\"none\"/>\n",
              "    <path d=\"M18.56 5.44l.94 2.06.94-2.06 2.06-.94-2.06-.94-.94-2.06-.94 2.06-2.06.94zm-11 1L8.5 8.5l.94-2.06 2.06-.94-2.06-.94L8.5 2.5l-.94 2.06-2.06.94zm10 10l.94 2.06.94-2.06 2.06-.94-2.06-.94-.94-2.06-.94 2.06-2.06.94z\"/><path d=\"M17.41 7.96l-1.37-1.37c-.4-.4-.92-.59-1.43-.59-.52 0-1.04.2-1.43.59L10.3 9.45l-7.72 7.72c-.78.78-.78 2.05 0 2.83L4 21.41c.39.39.9.59 1.41.59.51 0 1.02-.2 1.41-.59l7.78-7.78 2.81-2.81c.8-.78.8-2.07 0-2.86zM5.41 20L4 18.59l7.72-7.72 1.47 1.35L5.41 20z\"/>\n",
              "  </svg>\n",
              "      </button>\n",
              "      \n",
              "  <style>\n",
              "    .colab-df-container {\n",
              "      display:flex;\n",
              "      flex-wrap:wrap;\n",
              "      gap: 12px;\n",
              "    }\n",
              "\n",
              "    .colab-df-convert {\n",
              "      background-color: #E8F0FE;\n",
              "      border: none;\n",
              "      border-radius: 50%;\n",
              "      cursor: pointer;\n",
              "      display: none;\n",
              "      fill: #1967D2;\n",
              "      height: 32px;\n",
              "      padding: 0 0 0 0;\n",
              "      width: 32px;\n",
              "    }\n",
              "\n",
              "    .colab-df-convert:hover {\n",
              "      background-color: #E2EBFA;\n",
              "      box-shadow: 0px 1px 2px rgba(60, 64, 67, 0.3), 0px 1px 3px 1px rgba(60, 64, 67, 0.15);\n",
              "      fill: #174EA6;\n",
              "    }\n",
              "\n",
              "    [theme=dark] .colab-df-convert {\n",
              "      background-color: #3B4455;\n",
              "      fill: #D2E3FC;\n",
              "    }\n",
              "\n",
              "    [theme=dark] .colab-df-convert:hover {\n",
              "      background-color: #434B5C;\n",
              "      box-shadow: 0px 1px 3px 1px rgba(0, 0, 0, 0.15);\n",
              "      filter: drop-shadow(0px 1px 2px rgba(0, 0, 0, 0.3));\n",
              "      fill: #FFFFFF;\n",
              "    }\n",
              "  </style>\n",
              "\n",
              "      <script>\n",
              "        const buttonEl =\n",
              "          document.querySelector('#df-24066550-6088-4425-9617-2b752af9e96b button.colab-df-convert');\n",
              "        buttonEl.style.display =\n",
              "          google.colab.kernel.accessAllowed ? 'block' : 'none';\n",
              "\n",
              "        async function convertToInteractive(key) {\n",
              "          const element = document.querySelector('#df-24066550-6088-4425-9617-2b752af9e96b');\n",
              "          const dataTable =\n",
              "            await google.colab.kernel.invokeFunction('convertToInteractive',\n",
              "                                                     [key], {});\n",
              "          if (!dataTable) return;\n",
              "\n",
              "          const docLinkHtml = 'Like what you see? Visit the ' +\n",
              "            '<a target=\"_blank\" href=https://colab.research.google.com/notebooks/data_table.ipynb>data table notebook</a>'\n",
              "            + ' to learn more about interactive tables.';\n",
              "          element.innerHTML = '';\n",
              "          dataTable['output_type'] = 'display_data';\n",
              "          await google.colab.output.renderOutput(dataTable, element);\n",
              "          const docLink = document.createElement('div');\n",
              "          docLink.innerHTML = docLinkHtml;\n",
              "          element.appendChild(docLink);\n",
              "        }\n",
              "      </script>\n",
              "    </div>\n",
              "  </div>\n",
              "  "
            ]
          },
          "metadata": {},
          "execution_count": 3
        }
      ]
    },
    {
      "cell_type": "code",
      "source": [
        "p['M'].map(lambda x:10+x)\n"
      ],
      "metadata": {
        "colab": {
          "base_uri": "https://localhost:8080/"
        },
        "id": "5AiO7y9ie4pX",
        "outputId": "2ad5e9bd-baaf-4c46-bc7f-f369055be0fd"
      },
      "execution_count": null,
      "outputs": [
        {
          "output_type": "execute_result",
          "data": {
            "text/plain": [
              "0    11\n",
              "1    12\n",
              "2    13\n",
              "Name: M, dtype: int64"
            ]
          },
          "metadata": {},
          "execution_count": 9
        }
      ]
    },
    {
      "cell_type": "code",
      "source": [
        "p.applymap(lambda x:10+x)"
      ],
      "metadata": {
        "id": "2tDhFHTDCahM",
        "outputId": "f84cb959-a6ec-42c1-9f73-497469ffaa0a",
        "colab": {
          "base_uri": "https://localhost:8080/",
          "height": 143
        }
      },
      "execution_count": null,
      "outputs": [
        {
          "output_type": "execute_result",
          "data": {
            "text/plain": [
              "    M   N\n",
              "0  11  17\n",
              "1  12  18\n",
              "2  13  19"
            ],
            "text/html": [
              "\n",
              "  <div id=\"df-a3de7169-dd90-4b02-a5ca-2001ce8bf231\">\n",
              "    <div class=\"colab-df-container\">\n",
              "      <div>\n",
              "<style scoped>\n",
              "    .dataframe tbody tr th:only-of-type {\n",
              "        vertical-align: middle;\n",
              "    }\n",
              "\n",
              "    .dataframe tbody tr th {\n",
              "        vertical-align: top;\n",
              "    }\n",
              "\n",
              "    .dataframe thead th {\n",
              "        text-align: right;\n",
              "    }\n",
              "</style>\n",
              "<table border=\"1\" class=\"dataframe\">\n",
              "  <thead>\n",
              "    <tr style=\"text-align: right;\">\n",
              "      <th></th>\n",
              "      <th>M</th>\n",
              "      <th>N</th>\n",
              "    </tr>\n",
              "  </thead>\n",
              "  <tbody>\n",
              "    <tr>\n",
              "      <th>0</th>\n",
              "      <td>11</td>\n",
              "      <td>17</td>\n",
              "    </tr>\n",
              "    <tr>\n",
              "      <th>1</th>\n",
              "      <td>12</td>\n",
              "      <td>18</td>\n",
              "    </tr>\n",
              "    <tr>\n",
              "      <th>2</th>\n",
              "      <td>13</td>\n",
              "      <td>19</td>\n",
              "    </tr>\n",
              "  </tbody>\n",
              "</table>\n",
              "</div>\n",
              "      <button class=\"colab-df-convert\" onclick=\"convertToInteractive('df-a3de7169-dd90-4b02-a5ca-2001ce8bf231')\"\n",
              "              title=\"Convert this dataframe to an interactive table.\"\n",
              "              style=\"display:none;\">\n",
              "        \n",
              "  <svg xmlns=\"http://www.w3.org/2000/svg\" height=\"24px\"viewBox=\"0 0 24 24\"\n",
              "       width=\"24px\">\n",
              "    <path d=\"M0 0h24v24H0V0z\" fill=\"none\"/>\n",
              "    <path d=\"M18.56 5.44l.94 2.06.94-2.06 2.06-.94-2.06-.94-.94-2.06-.94 2.06-2.06.94zm-11 1L8.5 8.5l.94-2.06 2.06-.94-2.06-.94L8.5 2.5l-.94 2.06-2.06.94zm10 10l.94 2.06.94-2.06 2.06-.94-2.06-.94-.94-2.06-.94 2.06-2.06.94z\"/><path d=\"M17.41 7.96l-1.37-1.37c-.4-.4-.92-.59-1.43-.59-.52 0-1.04.2-1.43.59L10.3 9.45l-7.72 7.72c-.78.78-.78 2.05 0 2.83L4 21.41c.39.39.9.59 1.41.59.51 0 1.02-.2 1.41-.59l7.78-7.78 2.81-2.81c.8-.78.8-2.07 0-2.86zM5.41 20L4 18.59l7.72-7.72 1.47 1.35L5.41 20z\"/>\n",
              "  </svg>\n",
              "      </button>\n",
              "      \n",
              "  <style>\n",
              "    .colab-df-container {\n",
              "      display:flex;\n",
              "      flex-wrap:wrap;\n",
              "      gap: 12px;\n",
              "    }\n",
              "\n",
              "    .colab-df-convert {\n",
              "      background-color: #E8F0FE;\n",
              "      border: none;\n",
              "      border-radius: 50%;\n",
              "      cursor: pointer;\n",
              "      display: none;\n",
              "      fill: #1967D2;\n",
              "      height: 32px;\n",
              "      padding: 0 0 0 0;\n",
              "      width: 32px;\n",
              "    }\n",
              "\n",
              "    .colab-df-convert:hover {\n",
              "      background-color: #E2EBFA;\n",
              "      box-shadow: 0px 1px 2px rgba(60, 64, 67, 0.3), 0px 1px 3px 1px rgba(60, 64, 67, 0.15);\n",
              "      fill: #174EA6;\n",
              "    }\n",
              "\n",
              "    [theme=dark] .colab-df-convert {\n",
              "      background-color: #3B4455;\n",
              "      fill: #D2E3FC;\n",
              "    }\n",
              "\n",
              "    [theme=dark] .colab-df-convert:hover {\n",
              "      background-color: #434B5C;\n",
              "      box-shadow: 0px 1px 3px 1px rgba(0, 0, 0, 0.15);\n",
              "      filter: drop-shadow(0px 1px 2px rgba(0, 0, 0, 0.3));\n",
              "      fill: #FFFFFF;\n",
              "    }\n",
              "  </style>\n",
              "\n",
              "      <script>\n",
              "        const buttonEl =\n",
              "          document.querySelector('#df-a3de7169-dd90-4b02-a5ca-2001ce8bf231 button.colab-df-convert');\n",
              "        buttonEl.style.display =\n",
              "          google.colab.kernel.accessAllowed ? 'block' : 'none';\n",
              "\n",
              "        async function convertToInteractive(key) {\n",
              "          const element = document.querySelector('#df-a3de7169-dd90-4b02-a5ca-2001ce8bf231');\n",
              "          const dataTable =\n",
              "            await google.colab.kernel.invokeFunction('convertToInteractive',\n",
              "                                                     [key], {});\n",
              "          if (!dataTable) return;\n",
              "\n",
              "          const docLinkHtml = 'Like what you see? Visit the ' +\n",
              "            '<a target=\"_blank\" href=https://colab.research.google.com/notebooks/data_table.ipynb>data table notebook</a>'\n",
              "            + ' to learn more about interactive tables.';\n",
              "          element.innerHTML = '';\n",
              "          dataTable['output_type'] = 'display_data';\n",
              "          await google.colab.output.renderOutput(dataTable, element);\n",
              "          const docLink = document.createElement('div');\n",
              "          docLink.innerHTML = docLinkHtml;\n",
              "          element.appendChild(docLink);\n",
              "        }\n",
              "      </script>\n",
              "    </div>\n",
              "  </div>\n",
              "  "
            ]
          },
          "metadata": {},
          "execution_count": 10
        }
      ]
    },
    {
      "cell_type": "code",
      "source": [
        "#func = lambda x: x+2\n",
        "p.apply(max)"
      ],
      "metadata": {
        "colab": {
          "base_uri": "https://localhost:8080/"
        },
        "id": "oR7M-k8FiMl-",
        "outputId": "7368b50e-6f3d-4c7e-f121-3e0eb545d158"
      },
      "execution_count": null,
      "outputs": [
        {
          "output_type": "execute_result",
          "data": {
            "text/plain": [
              "M    3\n",
              "N    9\n",
              "dtype: int64"
            ]
          },
          "metadata": {},
          "execution_count": 7
        }
      ]
    },
    {
      "cell_type": "code",
      "source": [
        "p['N'].max()"
      ],
      "metadata": {
        "colab": {
          "base_uri": "https://localhost:8080/"
        },
        "id": "PVUPGeT1ivaj",
        "outputId": "e11db37b-483c-46b2-c676-47253b82eb1d"
      },
      "execution_count": null,
      "outputs": [
        {
          "output_type": "execute_result",
          "data": {
            "text/plain": [
              "9"
            ]
          },
          "metadata": {},
          "execution_count": 38
        }
      ]
    },
    {
      "cell_type": "code",
      "source": [
        "p['N'].idxmax()"
      ],
      "metadata": {
        "colab": {
          "base_uri": "https://localhost:8080/"
        },
        "id": "LD553PpYnp6t",
        "outputId": "93eff36a-ddbd-47da-c663-3c215d3361d8"
      },
      "execution_count": null,
      "outputs": [
        {
          "output_type": "execute_result",
          "data": {
            "text/plain": [
              "2"
            ]
          },
          "metadata": {},
          "execution_count": 40
        }
      ]
    },
    {
      "cell_type": "code",
      "source": [
        "N_list=p.loc['N']\n",
        "N_list[0:1]"
      ],
      "metadata": {
        "colab": {
          "base_uri": "https://localhost:8080/",
          "height": 329
        },
        "id": "Npzl1ALCoI98",
        "outputId": "4753ad18-56e4-4cc6-942a-e6b2585cbfc3"
      },
      "execution_count": null,
      "outputs": [
        {
          "output_type": "error",
          "ename": "KeyError",
          "evalue": "ignored",
          "traceback": [
            "\u001b[0;31m---------------------------------------------------------------------------\u001b[0m",
            "\u001b[0;31mKeyError\u001b[0m                                  Traceback (most recent call last)",
            "\u001b[0;32m<ipython-input-41-3039d8b08317>\u001b[0m in \u001b[0;36m<module>\u001b[0;34m()\u001b[0m\n\u001b[0;32m----> 1\u001b[0;31m \u001b[0mN_list\u001b[0m\u001b[0;34m=\u001b[0m\u001b[0mp\u001b[0m\u001b[0;34m.\u001b[0m\u001b[0mloc\u001b[0m\u001b[0;34m[\u001b[0m\u001b[0;34m'N'\u001b[0m\u001b[0;34m]\u001b[0m\u001b[0;34m\u001b[0m\u001b[0;34m\u001b[0m\u001b[0m\n\u001b[0m\u001b[1;32m      2\u001b[0m \u001b[0mN_list\u001b[0m\u001b[0;34m[\u001b[0m\u001b[0;36m0\u001b[0m\u001b[0;34m:\u001b[0m\u001b[0;36m1\u001b[0m\u001b[0;34m]\u001b[0m\u001b[0;34m\u001b[0m\u001b[0;34m\u001b[0m\u001b[0m\n",
            "\u001b[0;32m/usr/local/lib/python3.7/dist-packages/pandas/core/indexing.py\u001b[0m in \u001b[0;36m__getitem__\u001b[0;34m(self, key)\u001b[0m\n\u001b[1;32m    929\u001b[0m \u001b[0;34m\u001b[0m\u001b[0m\n\u001b[1;32m    930\u001b[0m             \u001b[0mmaybe_callable\u001b[0m \u001b[0;34m=\u001b[0m \u001b[0mcom\u001b[0m\u001b[0;34m.\u001b[0m\u001b[0mapply_if_callable\u001b[0m\u001b[0;34m(\u001b[0m\u001b[0mkey\u001b[0m\u001b[0;34m,\u001b[0m \u001b[0mself\u001b[0m\u001b[0;34m.\u001b[0m\u001b[0mobj\u001b[0m\u001b[0;34m)\u001b[0m\u001b[0;34m\u001b[0m\u001b[0;34m\u001b[0m\u001b[0m\n\u001b[0;32m--> 931\u001b[0;31m             \u001b[0;32mreturn\u001b[0m \u001b[0mself\u001b[0m\u001b[0;34m.\u001b[0m\u001b[0m_getitem_axis\u001b[0m\u001b[0;34m(\u001b[0m\u001b[0mmaybe_callable\u001b[0m\u001b[0;34m,\u001b[0m \u001b[0maxis\u001b[0m\u001b[0;34m=\u001b[0m\u001b[0maxis\u001b[0m\u001b[0;34m)\u001b[0m\u001b[0;34m\u001b[0m\u001b[0;34m\u001b[0m\u001b[0m\n\u001b[0m\u001b[1;32m    932\u001b[0m \u001b[0;34m\u001b[0m\u001b[0m\n\u001b[1;32m    933\u001b[0m     \u001b[0;32mdef\u001b[0m \u001b[0m_is_scalar_access\u001b[0m\u001b[0;34m(\u001b[0m\u001b[0mself\u001b[0m\u001b[0;34m,\u001b[0m \u001b[0mkey\u001b[0m\u001b[0;34m:\u001b[0m \u001b[0mtuple\u001b[0m\u001b[0;34m)\u001b[0m\u001b[0;34m:\u001b[0m\u001b[0;34m\u001b[0m\u001b[0;34m\u001b[0m\u001b[0m\n",
            "\u001b[0;32m/usr/local/lib/python3.7/dist-packages/pandas/core/indexing.py\u001b[0m in \u001b[0;36m_getitem_axis\u001b[0;34m(self, key, axis)\u001b[0m\n\u001b[1;32m   1162\u001b[0m         \u001b[0;31m# fall thru to straight lookup\u001b[0m\u001b[0;34m\u001b[0m\u001b[0;34m\u001b[0m\u001b[0;34m\u001b[0m\u001b[0m\n\u001b[1;32m   1163\u001b[0m         \u001b[0mself\u001b[0m\u001b[0;34m.\u001b[0m\u001b[0m_validate_key\u001b[0m\u001b[0;34m(\u001b[0m\u001b[0mkey\u001b[0m\u001b[0;34m,\u001b[0m \u001b[0maxis\u001b[0m\u001b[0;34m)\u001b[0m\u001b[0;34m\u001b[0m\u001b[0;34m\u001b[0m\u001b[0m\n\u001b[0;32m-> 1164\u001b[0;31m         \u001b[0;32mreturn\u001b[0m \u001b[0mself\u001b[0m\u001b[0;34m.\u001b[0m\u001b[0m_get_label\u001b[0m\u001b[0;34m(\u001b[0m\u001b[0mkey\u001b[0m\u001b[0;34m,\u001b[0m \u001b[0maxis\u001b[0m\u001b[0;34m=\u001b[0m\u001b[0maxis\u001b[0m\u001b[0;34m)\u001b[0m\u001b[0;34m\u001b[0m\u001b[0;34m\u001b[0m\u001b[0m\n\u001b[0m\u001b[1;32m   1165\u001b[0m \u001b[0;34m\u001b[0m\u001b[0m\n\u001b[1;32m   1166\u001b[0m     \u001b[0;32mdef\u001b[0m \u001b[0m_get_slice_axis\u001b[0m\u001b[0;34m(\u001b[0m\u001b[0mself\u001b[0m\u001b[0;34m,\u001b[0m \u001b[0mslice_obj\u001b[0m\u001b[0;34m:\u001b[0m \u001b[0mslice\u001b[0m\u001b[0;34m,\u001b[0m \u001b[0maxis\u001b[0m\u001b[0;34m:\u001b[0m \u001b[0mint\u001b[0m\u001b[0;34m)\u001b[0m\u001b[0;34m:\u001b[0m\u001b[0;34m\u001b[0m\u001b[0;34m\u001b[0m\u001b[0m\n",
            "\u001b[0;32m/usr/local/lib/python3.7/dist-packages/pandas/core/indexing.py\u001b[0m in \u001b[0;36m_get_label\u001b[0;34m(self, label, axis)\u001b[0m\n\u001b[1;32m   1111\u001b[0m     \u001b[0;32mdef\u001b[0m \u001b[0m_get_label\u001b[0m\u001b[0;34m(\u001b[0m\u001b[0mself\u001b[0m\u001b[0;34m,\u001b[0m \u001b[0mlabel\u001b[0m\u001b[0;34m,\u001b[0m \u001b[0maxis\u001b[0m\u001b[0;34m:\u001b[0m \u001b[0mint\u001b[0m\u001b[0;34m)\u001b[0m\u001b[0;34m:\u001b[0m\u001b[0;34m\u001b[0m\u001b[0;34m\u001b[0m\u001b[0m\n\u001b[1;32m   1112\u001b[0m         \u001b[0;31m# GH#5667 this will fail if the label is not present in the axis.\u001b[0m\u001b[0;34m\u001b[0m\u001b[0;34m\u001b[0m\u001b[0;34m\u001b[0m\u001b[0m\n\u001b[0;32m-> 1113\u001b[0;31m         \u001b[0;32mreturn\u001b[0m \u001b[0mself\u001b[0m\u001b[0;34m.\u001b[0m\u001b[0mobj\u001b[0m\u001b[0;34m.\u001b[0m\u001b[0mxs\u001b[0m\u001b[0;34m(\u001b[0m\u001b[0mlabel\u001b[0m\u001b[0;34m,\u001b[0m \u001b[0maxis\u001b[0m\u001b[0;34m=\u001b[0m\u001b[0maxis\u001b[0m\u001b[0;34m)\u001b[0m\u001b[0;34m\u001b[0m\u001b[0;34m\u001b[0m\u001b[0m\n\u001b[0m\u001b[1;32m   1114\u001b[0m \u001b[0;34m\u001b[0m\u001b[0m\n\u001b[1;32m   1115\u001b[0m     \u001b[0;32mdef\u001b[0m \u001b[0m_handle_lowerdim_multi_index_axis0\u001b[0m\u001b[0;34m(\u001b[0m\u001b[0mself\u001b[0m\u001b[0;34m,\u001b[0m \u001b[0mtup\u001b[0m\u001b[0;34m:\u001b[0m \u001b[0mtuple\u001b[0m\u001b[0;34m)\u001b[0m\u001b[0;34m:\u001b[0m\u001b[0;34m\u001b[0m\u001b[0;34m\u001b[0m\u001b[0m\n",
            "\u001b[0;32m/usr/local/lib/python3.7/dist-packages/pandas/core/generic.py\u001b[0m in \u001b[0;36mxs\u001b[0;34m(self, key, axis, level, drop_level)\u001b[0m\n\u001b[1;32m   3774\u001b[0m                 \u001b[0;32mraise\u001b[0m \u001b[0mTypeError\u001b[0m\u001b[0;34m(\u001b[0m\u001b[0;34mf\"Expected label or tuple of labels, got {key}\"\u001b[0m\u001b[0;34m)\u001b[0m \u001b[0;32mfrom\u001b[0m \u001b[0me\u001b[0m\u001b[0;34m\u001b[0m\u001b[0;34m\u001b[0m\u001b[0m\n\u001b[1;32m   3775\u001b[0m         \u001b[0;32melse\u001b[0m\u001b[0;34m:\u001b[0m\u001b[0;34m\u001b[0m\u001b[0;34m\u001b[0m\u001b[0m\n\u001b[0;32m-> 3776\u001b[0;31m             \u001b[0mloc\u001b[0m \u001b[0;34m=\u001b[0m \u001b[0mindex\u001b[0m\u001b[0;34m.\u001b[0m\u001b[0mget_loc\u001b[0m\u001b[0;34m(\u001b[0m\u001b[0mkey\u001b[0m\u001b[0;34m)\u001b[0m\u001b[0;34m\u001b[0m\u001b[0;34m\u001b[0m\u001b[0m\n\u001b[0m\u001b[1;32m   3777\u001b[0m \u001b[0;34m\u001b[0m\u001b[0m\n\u001b[1;32m   3778\u001b[0m             \u001b[0;32mif\u001b[0m \u001b[0misinstance\u001b[0m\u001b[0;34m(\u001b[0m\u001b[0mloc\u001b[0m\u001b[0;34m,\u001b[0m \u001b[0mnp\u001b[0m\u001b[0;34m.\u001b[0m\u001b[0mndarray\u001b[0m\u001b[0;34m)\u001b[0m\u001b[0;34m:\u001b[0m\u001b[0;34m\u001b[0m\u001b[0;34m\u001b[0m\u001b[0m\n",
            "\u001b[0;32m/usr/local/lib/python3.7/dist-packages/pandas/core/indexes/range.py\u001b[0m in \u001b[0;36mget_loc\u001b[0;34m(self, key, method, tolerance)\u001b[0m\n\u001b[1;32m    386\u001b[0m                 \u001b[0;32mexcept\u001b[0m \u001b[0mValueError\u001b[0m \u001b[0;32mas\u001b[0m \u001b[0merr\u001b[0m\u001b[0;34m:\u001b[0m\u001b[0;34m\u001b[0m\u001b[0;34m\u001b[0m\u001b[0m\n\u001b[1;32m    387\u001b[0m                     \u001b[0;32mraise\u001b[0m \u001b[0mKeyError\u001b[0m\u001b[0;34m(\u001b[0m\u001b[0mkey\u001b[0m\u001b[0;34m)\u001b[0m \u001b[0;32mfrom\u001b[0m \u001b[0merr\u001b[0m\u001b[0;34m\u001b[0m\u001b[0;34m\u001b[0m\u001b[0m\n\u001b[0;32m--> 388\u001b[0;31m             \u001b[0;32mraise\u001b[0m \u001b[0mKeyError\u001b[0m\u001b[0;34m(\u001b[0m\u001b[0mkey\u001b[0m\u001b[0;34m)\u001b[0m\u001b[0;34m\u001b[0m\u001b[0;34m\u001b[0m\u001b[0m\n\u001b[0m\u001b[1;32m    389\u001b[0m         \u001b[0;32mreturn\u001b[0m \u001b[0msuper\u001b[0m\u001b[0;34m(\u001b[0m\u001b[0;34m)\u001b[0m\u001b[0;34m.\u001b[0m\u001b[0mget_loc\u001b[0m\u001b[0;34m(\u001b[0m\u001b[0mkey\u001b[0m\u001b[0;34m,\u001b[0m \u001b[0mmethod\u001b[0m\u001b[0;34m=\u001b[0m\u001b[0mmethod\u001b[0m\u001b[0;34m,\u001b[0m \u001b[0mtolerance\u001b[0m\u001b[0;34m=\u001b[0m\u001b[0mtolerance\u001b[0m\u001b[0;34m)\u001b[0m\u001b[0;34m\u001b[0m\u001b[0;34m\u001b[0m\u001b[0m\n\u001b[1;32m    390\u001b[0m \u001b[0;34m\u001b[0m\u001b[0m\n",
            "\u001b[0;31mKeyError\u001b[0m: 'N'"
          ]
        }
      ]
    },
    {
      "cell_type": "code",
      "source": [
        "string='[1,2,3,4,5,]'\n",
        "eval(string)"
      ],
      "metadata": {
        "id": "g6niM7RsqxkG",
        "colab": {
          "base_uri": "https://localhost:8080/"
        },
        "outputId": "e8964711-1346-4a29-9041-a9ecb33df08d"
      },
      "execution_count": null,
      "outputs": [
        {
          "output_type": "execute_result",
          "data": {
            "text/plain": [
              "[1, 2, 3, 4, 5]"
            ]
          },
          "metadata": {},
          "execution_count": 1
        }
      ]
    },
    {
      "cell_type": "code",
      "source": [
        "string"
      ],
      "metadata": {
        "colab": {
          "base_uri": "https://localhost:8080/",
          "height": 35
        },
        "id": "8XRyP-r0WCVY",
        "outputId": "7f0946e9-8e83-42c7-c40e-72738cdf1023"
      },
      "execution_count": null,
      "outputs": [
        {
          "output_type": "execute_result",
          "data": {
            "text/plain": [
              "'[1,2,3,4,5,]'"
            ],
            "application/vnd.google.colaboratory.intrinsic+json": {
              "type": "string"
            }
          },
          "metadata": {},
          "execution_count": 2
        }
      ]
    },
    {
      "cell_type": "code",
      "source": [
        "import ast"
      ],
      "metadata": {
        "id": "lug0CiyMW6Co"
      },
      "execution_count": null,
      "outputs": []
    },
    {
      "cell_type": "code",
      "source": [
        "ast.literal_eval(string)"
      ],
      "metadata": {
        "colab": {
          "base_uri": "https://localhost:8080/"
        },
        "id": "dgtuqZLSWopW",
        "outputId": "68ca46d7-6838-4e54-9206-871c56bfb185"
      },
      "execution_count": null,
      "outputs": [
        {
          "output_type": "execute_result",
          "data": {
            "text/plain": [
              "[1, 2, 3, 4, 5]"
            ]
          },
          "metadata": {},
          "execution_count": 5
        }
      ]
    },
    {
      "cell_type": "code",
      "source": [
        "A_ =['cool','math','science','physics']\n",
        "#python=python\n",
        "y='cool' in A_\n",
        "print(y)"
      ],
      "metadata": {
        "colab": {
          "base_uri": "https://localhost:8080/"
        },
        "id": "C8OpeNIMW3bU",
        "outputId": "515b6f3b-dfdb-4417-d38f-36fd3ba5efd8"
      },
      "execution_count": null,
      "outputs": [
        {
          "output_type": "stream",
          "name": "stdout",
          "text": [
            "True\n"
          ]
        }
      ]
    },
    {
      "cell_type": "code",
      "source": [
        "python = ['cool']\n",
        "x = python in python\n",
        "print(x)"
      ],
      "metadata": {
        "colab": {
          "base_uri": "https://localhost:8080/"
        },
        "id": "FZHLUg3-X516",
        "outputId": "72273d10-c736-4c37-b527-1ad36ed35993"
      },
      "execution_count": null,
      "outputs": [
        {
          "output_type": "stream",
          "name": "stdout",
          "text": [
            "False\n"
          ]
        }
      ]
    },
    {
      "cell_type": "code",
      "source": [
        "list_=[1,'hi',{2,3,4}]"
      ],
      "metadata": {
        "id": "7Z-xl34F3U55"
      },
      "execution_count": null,
      "outputs": []
    },
    {
      "cell_type": "code",
      "source": [
        "list_"
      ],
      "metadata": {
        "colab": {
          "base_uri": "https://localhost:8080/"
        },
        "id": "T6_wmN1Ip3rU",
        "outputId": "09937157-6a82-461b-b0ab-29249ada7348"
      },
      "execution_count": null,
      "outputs": [
        {
          "output_type": "execute_result",
          "data": {
            "text/plain": [
              "[1, 'hi', {2, 3, 4}]"
            ]
          },
          "metadata": {},
          "execution_count": 2
        }
      ]
    },
    {
      "cell_type": "code",
      "source": [
        "x = 1\n",
        "for i in range(5):\n",
        "    x = x*i\n",
        "print(x)"
      ],
      "metadata": {
        "colab": {
          "base_uri": "https://localhost:8080/"
        },
        "id": "ponhlqv8qDXa",
        "outputId": "7b603f63-ef61-457a-c0b3-78c16ff00415"
      },
      "execution_count": null,
      "outputs": [
        {
          "output_type": "stream",
          "name": "stdout",
          "text": [
            "0\n"
          ]
        }
      ]
    },
    {
      "cell_type": "code",
      "source": [
        "sum = 10\n",
        "for number in [2, 4, 6]:\n",
        "    if number==6:\n",
        "        sum = sum + number\n",
        "    else:\n",
        "        sum = 2\n",
        "print(sum)"
      ],
      "metadata": {
        "colab": {
          "base_uri": "https://localhost:8080/"
        },
        "id": "pzN-f0DR64OY",
        "outputId": "c145e0c9-4b1c-478f-bfd4-061f9e5fa517"
      },
      "execution_count": null,
      "outputs": [
        {
          "output_type": "stream",
          "name": "stdout",
          "text": [
            "8\n"
          ]
        }
      ]
    },
    {
      "cell_type": "code",
      "source": [
        "list_=[1,2,3,4,5]\n",
        "square_number=[i**2 for i in list_ if i%2==0]\n",
        "print(square_number)"
      ],
      "metadata": {
        "colab": {
          "base_uri": "https://localhost:8080/"
        },
        "id": "wQoOceP8g6Zr",
        "outputId": "58b6820f-bc52-4801-ed59-631da58c02f6"
      },
      "execution_count": null,
      "outputs": [
        {
          "output_type": "stream",
          "name": "stdout",
          "text": [
            "[4, 16]\n"
          ]
        }
      ]
    },
    {
      "cell_type": "code",
      "source": [
        "my_list=[True, False]\n",
        "my_list.sort(reverse=True)\n",
        "print(my_list)"
      ],
      "metadata": {
        "colab": {
          "base_uri": "https://localhost:8080/"
        },
        "id": "x2_bDnOChbwV",
        "outputId": "efc22e88-cabf-4567-e7d6-72c943e6b2cd"
      },
      "execution_count": null,
      "outputs": [
        {
          "output_type": "stream",
          "name": "stdout",
          "text": [
            "[True, False]\n"
          ]
        }
      ]
    },
    {
      "cell_type": "code",
      "source": [
        "a=2\n",
        "print(a)"
      ],
      "metadata": {
        "colab": {
          "base_uri": "https://localhost:8080/"
        },
        "id": "JnDImGBNJe6q",
        "outputId": "0f0bc428-a3b8-4c37-f0a7-11b3f0aa1d5f"
      },
      "execution_count": null,
      "outputs": [
        {
          "output_type": "stream",
          "name": "stdout",
          "text": [
            "2\n"
          ]
        }
      ]
    },
    {
      "cell_type": "code",
      "source": [
        "'''from pandas_profiling import ProfileReport\n",
        "report = ProfileReport(df)\n",
        "report.to_file(output_file='output.html')'''"
      ],
      "metadata": {
        "id": "5RlvuG2yudpy",
        "colab": {
          "base_uri": "https://localhost:8080/",
          "height": 35
        },
        "outputId": "cb42d5f2-3818-4459-91a1-d6044b7d2cdd"
      },
      "execution_count": null,
      "outputs": [
        {
          "output_type": "execute_result",
          "data": {
            "text/plain": [
              "\"from pandas_profiling import ProfileReport\\nreport = ProfileReport(df)\\nreport.to_file(output_file='output.html')\""
            ],
            "application/vnd.google.colaboratory.intrinsic+json": {
              "type": "string"
            }
          },
          "metadata": {},
          "execution_count": 1
        }
      ]
    },
    {
      "cell_type": "code",
      "source": [
        "# #Loading the required library\n",
        "# import pandas as pd\n",
        "# import numpy as np\n",
        "# from optbinning import OptimalBinning\n",
        "# import joblib\n",
        "# from sklearn.linear_model import LogisticRegression\n",
        "# from sklearn.model_selection import train_test_split\n",
        "# from sklearn.metrics import roc_curve, roc_auc_score\n",
        "# %matplotlib inline\n",
        "# import matplotlib.pyplot as plt\n",
        "# import warnings\n",
        "# warnings.filterwarnings('ignore')"
      ],
      "metadata": {
        "id": "LbJmuIM9qudl"
      },
      "execution_count": 3,
      "outputs": []
    },
    {
      "cell_type": "code",
      "source": [
        "# This is used to load the numerical features optbinned object and then get the woe transformed data.\n",
        "# df_num=pd.DataFrame()\n",
        "# def generate_IV(i):\n",
        "#     variable = i\n",
        "#     x = numerical_df[variable].values\n",
        "#     optB_Num=joblib.load('optB_Num.joblib'+i)\n",
        "#     df_num[i+'_woe']=optB_Num.transform(x, metric='woe')\n",
        "#     binning_table = optB_Num.binning_table\n",
        "#     b=binning_table.build()\n",
        "#     return b,df_num\n",
        "\n",
        "# for i in numerical_df.columns:\n",
        "#     d,df_num=generate_IV(i)"
      ],
      "metadata": {
        "id": "dtl1mHUK3aE7"
      },
      "execution_count": 2,
      "outputs": []
    },
    {
      "cell_type": "code",
      "source": [
        "# # This is used to load the categorical features optbinned object and then get the woe transformed data.\n",
        "# df_cat=pd.DataFrame()\n",
        "# def generate_IV(i):\n",
        "#     variable = i\n",
        "#     x = cat_df[variable].values\n",
        "#     optB_Cat=joblib.load('optB_Cat.joblib'+i)\n",
        "#     df_cat[i+'_woe']=optB_Cat.transform(x, metric='woe')\n",
        "#     binning_table = optB_Cat.binning_table\n",
        "#     b=binning_table.build()\n",
        "#     return b,df_cat\n",
        "\n",
        "# for i in cat_df.columns:\n",
        "#     d,df_cat=generate_IV(i)"
      ],
      "metadata": {
        "id": "d8pV7ZYj3jvm"
      },
      "execution_count": 4,
      "outputs": []
    },
    {
      "cell_type": "code",
      "source": [
        "# WoE_Transformed_data=pd.concat([df_num,df_cat],axis=1)"
      ],
      "metadata": {
        "id": "oD_DyldH3qtE"
      },
      "execution_count": 6,
      "outputs": []
    },
    {
      "cell_type": "code",
      "source": [
        "# logistics_model=joblib.load('logistics_model.joblib')"
      ],
      "metadata": {
        "id": "_32Az8-g3twV"
      },
      "execution_count": 7,
      "outputs": []
    },
    {
      "cell_type": "code",
      "source": [
        "# #def scoring(features,logistics_model,target): # Use this when actual target tag is available.\n",
        "# def scoring(features,logistics_model): # This function is for scoring the data and getting the decile.\n",
        "#     score = pd.DataFrame(logistics_model_EQ.predict_proba(features)[:,1], columns = ['SCORE'])\n",
        "#     score['DECILE'] = pd.qcut(score['SCORE'].rank(method = 'first'),10,labels=range(10,0,-1))\n",
        "#     score['DECILE'] = score['DECILE'].astype(float)\n",
        "#     #score['TARGET'] = target    # To be used when we have actual target tag.\n",
        "#     #score['NONTARGET'] = 1 - target # To be used when we have actual target tag.\n",
        "#     return(score)"
      ],
      "metadata": {
        "id": "KBoLD8qW3zNB"
      },
      "execution_count": 8,
      "outputs": []
    },
    {
      "cell_type": "code",
      "source": [
        "# #scored_data= scoring(X_test_tr,logistics_model_EQ,Y_test) # to be used with actual target tag.\n",
        "# scored_data= scoring(WoE_Transformed_data,logistics_model_EQ) # This is for getting scored data along with decile."
      ],
      "metadata": {
        "id": "RghCBpD233bJ"
      },
      "execution_count": 9,
      "outputs": []
    },
    {
      "cell_type": "code",
      "source": [
        "# # This is for getting the final result dataframe with identifier column and corresponding score as well as decile.\n",
        "# final_scored_df=pd.concat([X[Identifier_col],scored_data],axis=1)"
      ],
      "metadata": {
        "id": "m0aiqkye38Tr"
      },
      "execution_count": 10,
      "outputs": []
    },
    {
      "cell_type": "code",
      "source": [
        "#This Function should be used  for creating the Decile table,only when we have actual target tags.\n",
        "# def deciling(data,score,decile_by,target,nontarget):\n",
        "#     inputs = list(decile_by)\n",
        "#     inputs.extend((target,nontarget,score))\n",
        "#     decile = data[inputs]\n",
        "#     grouped = decile.groupby(decile_by)\n",
        "#     agg1 = pd.DataFrame({},index=[])\n",
        "#     agg1['MIN_SCORE'] = grouped.min()[score]\n",
        "#     agg1['MAX_SCORE'] = grouped.max()[score]\n",
        "#     agg1['TOTAL'] = grouped.sum()[nontarget]  + grouped.sum()[target]\n",
        "#     agg1['TARGET'] = grouped.sum()[target]\n",
        "#     agg1['NONTARGET'] = grouped.sum()[nontarget]\n",
        "#     agg1['PCT_TAR'] = grouped.mean()[target]*100\n",
        "#     agg1['CUM_TAR'] = grouped.sum()[target].cumsum()\n",
        "#     agg1['CUM_NONTAR'] = grouped.sum()[nontarget].cumsum()\n",
        "#     agg1['DIST_TAR'] = agg1['CUM_TAR']/agg1['TARGET'].sum()*100\n",
        "#     agg1['DIST_NONTAR'] = agg1['CUM_NONTAR']/agg1['NONTARGET'].sum()*100\n",
        "#     agg1['SPREAD'] = (agg1['DIST_TAR'] - agg1['DIST_NONTAR'])\n",
        "#     agg1 = decile_labels(agg1,'DECILE',color='skyblue')\n",
        "#     return(agg1)"
      ],
      "metadata": {
        "id": "5GonqQ--3__q"
      },
      "execution_count": 11,
      "outputs": []
    },
    {
      "cell_type": "code",
      "source": [
        "#test_decile=deciling(scored_data,'SCORE',['DECILE'],'TARGET','NONTARGET')  # Use this when we have actual target tag."
      ],
      "metadata": {
        "id": "WSm5ZqR34C2N"
      },
      "execution_count": 12,
      "outputs": []
    },
    {
      "cell_type": "code",
      "source": [
        "# This is used to dump and transform the numerical features optbinned object and then get the woe transformed data for trainig data.\n",
        "# df_num=pd.DataFrame()\n",
        "# def generate_IV(i):\n",
        "#     variable = i\n",
        "#     x = num_MVP_DF[variable].values\n",
        "#     y = Y_train\n",
        "#     optb_num = OptimalBinning(name=variable, dtype=\"numerical\", solver=\"cp\",monotonic_trend=\"auto_asc_desc\")\n",
        "#     optb_num.fit(x, y)\n",
        "#     joblib.dump(optb_num,'optB_Num.joblib'+i)\n",
        "#     df_num[i+'_woe']=optb_num.transform(x, metric='woe')\n",
        "#     binning_table = optb_num.binning_table\n",
        "#     b=binning_table.build()\n",
        "#     return b,df_num"
      ],
      "metadata": {
        "id": "EjzRlTfy4E89"
      },
      "execution_count": 13,
      "outputs": []
    },
    {
      "cell_type": "code",
      "source": [
        "# # This is used to load the categorical features optbinned object and then get the woe transformed data.\n",
        "# df_cat=pd.DataFrame()\n",
        "# def generate_IV(i):\n",
        "#     variable = i\n",
        "#     x = cat_df[variable].values\n",
        "#     optB_Cat=joblib.load('optB_Cat.joblib'+i)\n",
        "#     df_cat[i+'_woe']=optB_Cat.transform(x, metric='woe')\n",
        "#     binning_table = optB_Cat.binning_table\n",
        "#     b=binning_table.build()\n",
        "#     return b,df_cat\n",
        "\n",
        "# for i in cat_df.columns:\n",
        "#     d,df_cat=generate_IV(i)"
      ],
      "metadata": {
        "id": "56AB0sKC5JDb"
      },
      "execution_count": 14,
      "outputs": []
    },
    {
      "cell_type": "code",
      "source": [
        "# This function is used to get iv woe table for all the numerical variables for training data\n",
        "# def IV_WOE_Table():\n",
        "#     a=pd.DataFrame(columns=['Bin', 'Count', 'Count (%)', 'Non-event', 'Event', 'Event rate', 'WoE',\n",
        "#        'IV', 'JS','Variable'])\n",
        "#     for i in num_MVP_DF.columns:\n",
        "#         d=generate_IV(i)\n",
        "#         d['Variable']=i\n",
        "#         a=pd.concat([d,a])\n",
        "#     return a"
      ],
      "metadata": {
        "id": "01lKyJ305Pzi"
      },
      "execution_count": 15,
      "outputs": []
    },
    {
      "cell_type": "code",
      "source": [
        "# #This will give woe transfomed data of numerical features in dataframe df_num and iv woe tabke result in variable d as define in this code.\n",
        "# for i in num_MVP_DF.columns:\n",
        "#     d,df_num=generate_IV(i)"
      ],
      "metadata": {
        "id": "2FTjG2_S5Xiw"
      },
      "execution_count": 16,
      "outputs": []
    },
    {
      "cell_type": "code",
      "source": [
        "# This is used to dump and transform the categorical features optbinned object and then get the woe transformed data for training data.\n",
        "# df_cat=pd.DataFrame()\n",
        "# def generate_IV(i):\n",
        "#     variable = i\n",
        "#     x = cat_MVP_DF[variable].values\n",
        "#     y = Y_train\n",
        "#     optb_cat = OptimalBinning(name=variable, dtype=\"categorical\", solver=\"cp\",monotonic_trend=\"auto_asc_desc\")\n",
        "#     optb_cat.fit(x, y)\n",
        "#     joblib.dump(optb_cat,'optB_Cat.joblib'+i)\n",
        "#     df_cat[i+'_woe']=optb_cat.transform(x, metric='woe')\n",
        "#     binning_table = optb_cat.binning_table\n",
        "#     b=binning_table.build()\n",
        "#     return b,df_cat"
      ],
      "metadata": {
        "id": "nTdY_tms5bPT"
      },
      "execution_count": 17,
      "outputs": []
    },
    {
      "cell_type": "code",
      "source": [
        "# # This is used for combining the woe ransformed data for categorical and numerical features.\n",
        "# WoE_Transformed_data=pd.concat([df_num,df_cat],axis=1)"
      ],
      "metadata": {
        "id": "3deBsOtJ56R5"
      },
      "execution_count": 18,
      "outputs": []
    },
    {
      "cell_type": "code",
      "source": [
        "# # This function is used to get iv woe table for all the categorical variables for training data\n",
        "# def IV_WOE_Table():\n",
        "#     a=pd.DataFrame(columns=['Bin', 'Count', 'Count (%)', 'Non-event', 'Event', 'Event rate', 'WoE',\n",
        "#        'IV', 'JS','Variable'])\n",
        "#     for i in cat_MVP_DF.columns:\n",
        "#         d=generate_IV(i)\n",
        "#         d['Variable']=i\n",
        "#         a=pd.concat([d,a])\n",
        "#     return a"
      ],
      "metadata": {
        "id": "INNgEb4m5-iD"
      },
      "execution_count": 19,
      "outputs": []
    },
    {
      "cell_type": "code",
      "source": [
        "# #This will give woe transfomed data of categorical features in dataframe df_cat and iv woe table result in variable d as define in this code.\n",
        "# for i in cat_MVP_DF.columns:\n",
        "#     d,df_cat=generate_IV(i)"
      ],
      "metadata": {
        "id": "VCx1bJIv6EkJ"
      },
      "execution_count": 20,
      "outputs": []
    },
    {
      "cell_type": "code",
      "source": [
        "# # This is used for combining the woe ransformed training data for categorical and numerical features.\n",
        "# WoE_Transformed_data_training=pd.concat([df_num,df_cat],axis=1)"
      ],
      "metadata": {
        "id": "9gBijRCn6Inl"
      },
      "execution_count": 21,
      "outputs": []
    },
    {
      "cell_type": "code",
      "source": [
        "# def decile_labels(agg1,label,color='skyblue'):\n",
        "#     agg_dummy = pd.DataFrame(OrderedDict((('TOTAL',0),('TARGET',0),('NONTARGET',0),('PCT_TAR',0),('CUM_TAR',0),('CUM_NONTAR',0),('DIST_TAR',0),('DIST_NONTAR',0),('SPREAD',0))),index=[0])\n",
        "#     agg1 = pd.concat([agg1,agg_dummy]).sort_index()\n",
        "#     agg1.index.name  = label\n",
        "#     #agg1 = agg1.style.apply(highlight_max, color = 'yellow', subset=['SPREAD'])\n",
        "#     #agg1.bar(subset=['TARGET'], color='{}'.format(color))\n",
        "#     #agg1.bar(subset=['TOTAL'], color='{}'.format(color))\n",
        "#     #agg1.bar(subset=['PCT_TAR'], color='{}'.format(color))\n",
        "#     return(agg1)"
      ],
      "metadata": {
        "id": "tuVWCeTH6MYo"
      },
      "execution_count": 22,
      "outputs": []
    },
    {
      "cell_type": "code",
      "source": [
        "# # This function is for scoring the data and getting the decile.\n",
        "# def scoring(features,logistics_model,target):\n",
        "#     score = pd.DataFrame(logistics_model.predict_proba(features)[:,1], columns = ['SCORE'])\n",
        "#     score['DECILE'] = pd.qcut(score['SCORE'].rank(method = 'first'),10,labels=range(10,0,-1))\n",
        "#     score['DECILE'] = score['DECILE'].astype(float)\n",
        "#     score['TARGET'] = target\n",
        "#     score['NONTARGET'] = 1 - target\n",
        "#     return(score)"
      ],
      "metadata": {
        "id": "xix3R1rc6S1m"
      },
      "execution_count": 23,
      "outputs": []
    },
    {
      "cell_type": "code",
      "source": [
        "# #This Function should be used  for creating the Decile table,only when we have actual target tags.\n",
        "# def deciling(data,score,decile_by,target,nontarget):\n",
        "#     inputs = list(decile_by)\n",
        "#     inputs.extend((target,nontarget,score))\n",
        "#     decile = data[inputs]\n",
        "#     grouped = decile.groupby(decile_by)\n",
        "#     agg1 = pd.DataFrame({},index=[])\n",
        "#     agg1['MIN_SCORE'] = grouped.min()[score]\n",
        "#     agg1['MAX_SCORE'] = grouped.max()[score]\n",
        "#     agg1['TOTAL'] = grouped.sum()[nontarget]  + grouped.sum()[target]\n",
        "#     agg1['TARGET'] = grouped.sum()[target]\n",
        "#     agg1['NONTARGET'] = grouped.sum()[nontarget]\n",
        "#     agg1['PCT_TAR'] = grouped.mean()[target]*100\n",
        "#     agg1['CUM_TAR'] = grouped.sum()[target].cumsum()\n",
        "#     agg1['CUM_NONTAR'] = grouped.sum()[nontarget].cumsum()\n",
        "#     agg1['DIST_TAR'] = agg1['CUM_TAR']/agg1['TARGET'].sum()*100\n",
        "#     agg1['DIST_NONTAR'] = agg1['CUM_NONTAR']/agg1['NONTARGET'].sum()*100\n",
        "#     agg1['SPREAD'] = (agg1['DIST_TAR'] - agg1['DIST_NONTAR'])\n",
        "#     agg1 = decile_labels(agg1,'DECILE',color='skyblue')\n",
        "#     return(agg1)"
      ],
      "metadata": {
        "id": "78llLaez6Vo6"
      },
      "execution_count": 24,
      "outputs": []
    },
    {
      "cell_type": "code",
      "source": [
        "# # This is for getting scored data for trainig data along with decile.\n",
        "# scores_train = scoring(WoE_Transformed_data_training,logistics_model,Y_train)"
      ],
      "metadata": {
        "id": "c8-ihWIY6ZDd"
      },
      "execution_count": 25,
      "outputs": []
    },
    {
      "cell_type": "code",
      "source": [
        "# train_decile=deciling(scores_train,'SCORE',['DECILE'],'TARGET','NONTARGET')"
      ],
      "metadata": {
        "id": "B0nlXWMQ6cBL"
      },
      "execution_count": 26,
      "outputs": []
    },
    {
      "cell_type": "code",
      "source": [
        "# # This is for getting scored data for test data along with decile.\n",
        "# scores_test = scoring(WoE_Transformed_data_test,logistics_model,Y_test)"
      ],
      "metadata": {
        "id": "pvf6dtdd6fD_"
      },
      "execution_count": 27,
      "outputs": []
    },
    {
      "cell_type": "code",
      "source": [
        "# test_decile=deciling(scores_test,'SCORE',['DECILE'],'TARGET','NONTARGET')"
      ],
      "metadata": {
        "id": "W7IqfEwS6ire"
      },
      "execution_count": 28,
      "outputs": []
    },
    {
      "cell_type": "code",
      "source": [
        "# # This is for model initiating and fitting on dependent and target variable.\n",
        "# logistics_model=LogisticRegression(random_state=67)\n",
        "# logistics_model.fit(WoE_Transformed_data_training, Y_train)"
      ],
      "metadata": {
        "id": "t2-cLWxG6mJr"
      },
      "execution_count": 29,
      "outputs": []
    },
    {
      "cell_type": "code",
      "source": [
        "# # filtering data seperatrely for numerical and categorical features for validating/test data.\n",
        "# numerical_df=X_test[num_cols]\n",
        "# cat_df=X_test[cat_col]"
      ],
      "metadata": {
        "id": "k_Cw2x-U6sIq"
      },
      "execution_count": 30,
      "outputs": []
    },
    {
      "cell_type": "code",
      "source": [
        "# # This is used to load the numerical features optbinned object and then get the woe transformed data.\n",
        "# df_num_test=pd.DataFrame()\n",
        "# def generate_IV(i):\n",
        "#     variable = i\n",
        "#     x = numerical_df[variable].values\n",
        "#     optB_Num=joblib.load('optB_Num.joblib'+i)\n",
        "#     df_num_test[i+'_woe']=optB_Num.transform(x, metric='woe')\n",
        "#     binning_table = optB_Num.binning_table\n",
        "#     b=binning_table.build()\n",
        "#     return b,df_num_test"
      ],
      "metadata": {
        "id": "pBdfglNz6w8x"
      },
      "execution_count": 31,
      "outputs": []
    },
    {
      "cell_type": "code",
      "source": [],
      "metadata": {
        "id": "cxnw3fWFBsqn"
      },
      "execution_count": null,
      "outputs": []
    },
    {
      "cell_type": "code",
      "source": [
        "# # This function is used to get iv woe table for all the numerical variables for test data\n",
        "# def IV_WOE_Table():\n",
        "#     a=pd.DataFrame(columns=['Bin', 'Count', 'Count (%)', 'Non-event', 'Event', 'Event rate', 'WoE',\n",
        "#        'IV', 'JS','Variable'])\n",
        "#     for i in numerical_df.columns:\n",
        "#         d=generate_IV(i)\n",
        "#         d['Variable']=i\n",
        "#         a=pd.concat([d,a])\n",
        "#     return a"
      ],
      "metadata": {
        "id": "GmkPDlev60PR"
      },
      "execution_count": 32,
      "outputs": []
    },
    {
      "cell_type": "code",
      "source": [
        "# #This will give woe transfomed data of numerical features in dataframe df_cat and iv woe table result in variable d as define in this code for test data.\n",
        "# for i in numerical_df.columns:\n",
        "#     d,df_num_test=generate_IV(i)"
      ],
      "metadata": {
        "id": "bT-pgCCv63_J"
      },
      "execution_count": 33,
      "outputs": []
    },
    {
      "cell_type": "code",
      "source": [
        "# # This is used to load the categorical features optbinned object and then get the woe transformed data.\n",
        "# df_cat_test=pd.DataFrame()\n",
        "# def generate_IV(i):\n",
        "#     variable = i\n",
        "#     x = cat_df[variable].values\n",
        "#     optB_Cat=joblib.load('optB_Cat.joblib'+i)\n",
        "#     df_cat_test[i+'_woe']=optB_Cat.transform(x, metric='woe')\n",
        "#     binning_table = optB_Cat.binning_table\n",
        "#     b=binning_table.build()\n",
        "#     return b,df_cat_test"
      ],
      "metadata": {
        "id": "jUtvvsfB67Ce"
      },
      "execution_count": 34,
      "outputs": []
    },
    {
      "cell_type": "code",
      "source": [
        "# # This function is used to get iv woe table for all the categorical variables for test data\n",
        "# def IV_WOE_Table():\n",
        "#     a=pd.DataFrame(columns=['Bin', 'Count', 'Count (%)', 'Non-event', 'Event', 'Event rate', 'WoE',\n",
        "#        'IV', 'JS','Variable'])\n",
        "#     for i in cat_df.columns:\n",
        "#         d=generate_IV(i)\n",
        "#         d['Variable']=i\n",
        "#         a=pd.concat([d,a])\n",
        "#     return a"
      ],
      "metadata": {
        "id": "2z-KcHGx6-gj"
      },
      "execution_count": 35,
      "outputs": []
    },
    {
      "cell_type": "code",
      "source": [
        "# #This will give woe transfomed data of categorical features in dataframe df_cat and iv woe table result in variable d as define in this code for test data.\n",
        "# for i in cat_df.columns:\n",
        "#     d,df_cat_test=generate_IV(i)"
      ],
      "metadata": {
        "id": "2r_cFjlG8Fdn"
      },
      "execution_count": 36,
      "outputs": []
    },
    {
      "cell_type": "code",
      "source": [
        "# # This is used for combining the woe ransformed test data for categorical and numerical features.\n",
        "# WoE_Transformed_data_test=pd.concat([df_num_test,df_cat_test],axis=1)"
      ],
      "metadata": {
        "id": "wXfzkTd18Kw4"
      },
      "execution_count": 37,
      "outputs": []
    },
    {
      "cell_type": "code",
      "source": [
        "# # Separate features and target variable payu code\n",
        "# X = cust_seg_df.drop(columns=['Customer Segment'])  # Features\n",
        "# y = cust_seg_df['Customer Segment']  # Target\n",
        "# X_train, X_test, y_train, y_test = train_test_split(X, y, test_size=0.3, random_state=42)\n",
        "# X_train.reset_index(drop=True,inplace=True)\n",
        "# y_train.reset_index(drop=True,inplace=True)\n",
        "# X_test.reset_index(drop=True,inplace=True)\n",
        "# y_test.reset_index(drop=True,inplace=True)\n",
        "# # Initialize the XGBoost classifier\n",
        "# xgb_model = xgb.XGBClassifier(n_estimators=100, max_depth=5, learning_rate=0.1)\n",
        "\n",
        "# # Train the model\n",
        "# xgb_model.fit(X_train, y_train)\n",
        "# # Make predictions on the test data\n",
        "# y_pred = xgb_model.predict(X_test)\n",
        "\n",
        "# # Evaluate the accuracy of the model\n",
        "# accuracy = accuracy_score(y_test, y_pred)\n",
        "# print(f\"Model accuracy: {accuracy * 100:.2f}%\")\n",
        "# # Get feature importance\n",
        "# importance = xgb_model.feature_importances_\n",
        "\n",
        "# # Plot the feature importance\n",
        "# plt.barh(X.columns, importance)\n",
        "# plt.xlabel('Importance')\n",
        "# plt.ylabel('Features')\n",
        "# plt.title('Feature Importance')\n",
        "# plt.show()\n",
        "\n",
        "# # Display feature importances as a dataframe\n",
        "# importance_df = pd.DataFrame({'Feature': X.columns, 'Importance': importance})\n",
        "# importance_df.sort_values(by='Importance', ascending=False, inplace=True)\n",
        "# print(importance_df)\n",
        "# from sklearn.metrics import confusion_matrix, classification_report\n",
        "# import seaborn as sns\n",
        "# import matplotlib.pyplot as plt\n",
        "# # Confusion Matrix\n",
        "# cm = confusion_matrix(y_test, y_pred)\n",
        "# print(\"Confusion Matrix:\\n\", cm)\n",
        "\n",
        "# # Classification report\n",
        "# print(\"Classification Report:\\n\", classification_report(y_test, y_pred))\n",
        "\n",
        "# # Visualizing the confusion matrix\n",
        "# plt.figure(figsize=(6, 4))\n",
        "# sns.heatmap(cm, annot=True, fmt='d', cmap='Blues', xticklabels=[0.1], yticklabels=[0,1])\n",
        "# plt.ylabel('Actual')\n",
        "# plt.xlabel('Predicted')\n",
        "# plt.title('Confusion Matrix')\n",
        "# plt.show()\n",
        "# def scoring(features,logistics_model): # This function is for scoring the data and getting the decile.\n",
        "#     score = pd.DataFrame(logistics_model_hffc.predict_proba(features)[:,1], columns = ['SCORE'])\n",
        "#     score['DECILE'] = pd.qcut(score['SCORE'].rank(method = 'first'),10,labels=range(10,0,-1))\n",
        "#     score['DECILE'] = score['DECILE'].astype(float)\n",
        "#     #score['TARGET'] = target    # To be used when we have actual target tag.\n",
        "#     #score['NONTARGET'] = 1 - target # To be used when we have actual target tag.\n",
        "#     return(score)\n",
        "\n",
        "# scored_data= scoring(WoE_Transformed_data_test2,logistics_model_hffc) # This is for getting scored data along with decile.\n",
        "# final_scored_df=pd.concat([numeric_dpd_mean_min_max_merged[Identifier_col],scored_data],axis=1)"
      ],
      "metadata": {
        "id": "FzEUmqqv8O7q"
      },
      "execution_count": 1,
      "outputs": []
    },
    {
      "cell_type": "code",
      "source": [],
      "metadata": {
        "id": "dFF0weLksBZB"
      },
      "execution_count": null,
      "outputs": []
    }
  ]
}