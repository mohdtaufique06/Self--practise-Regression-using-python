{
  "nbformat": 4,
  "nbformat_minor": 0,
  "metadata": {
    "colab": {
      "provenance": [],
      "authorship_tag": "ABX9TyOIeb/Ayr4q37NggAhRpmzH",
      "include_colab_link": true
    },
    "kernelspec": {
      "name": "python3",
      "display_name": "Python 3"
    },
    "language_info": {
      "name": "python"
    }
  },
  "cells": [
    {
      "cell_type": "markdown",
      "metadata": {
        "id": "view-in-github",
        "colab_type": "text"
      },
      "source": [
        "<a href=\"https://colab.research.google.com/github/mohdtaufique06/Self--practise-Regression-using-python/blob/main/Coding_Assessment_MT.ipynb\" target=\"_parent\"><img src=\"https://colab.research.google.com/assets/colab-badge.svg\" alt=\"Open In Colab\"/></a>"
      ]
    },
    {
      "cell_type": "code",
      "execution_count": null,
      "metadata": {
        "colab": {
          "base_uri": "https://localhost:8080/"
        },
        "id": "TIgsclP3R6Mt",
        "outputId": "c785dc2b-a718-4d0a-9892-5a65e4d9da15"
      },
      "outputs": [
        {
          "output_type": "stream",
          "name": "stdout",
          "text": [
            "hello world\n"
          ]
        }
      ],
      "source": [
        "print(\"hello world\")"
      ]
    },
    {
      "cell_type": "code",
      "source": [
        "string = \"geeks quiz practice code\" \n",
        "string[::-1]"
      ],
      "metadata": {
        "colab": {
          "base_uri": "https://localhost:8080/",
          "height": 35
        },
        "id": "xqhheuWvSDKx",
        "outputId": "e366ed7e-e0b5-4998-bb58-dada4c4c70b2"
      },
      "execution_count": null,
      "outputs": [
        {
          "output_type": "execute_result",
          "data": {
            "text/plain": [
              "'edoc ecitcarp ziuq skeeg'"
            ],
            "application/vnd.google.colaboratory.intrinsic+json": {
              "type": "string"
            }
          },
          "metadata": {},
          "execution_count": 2
        }
      ]
    },
    {
      "cell_type": "code",
      "source": [
        "def reverse_string(string):\n",
        "  return string[::-1]\n",
        "string = \"geeks quiz practice code\"\n",
        "print(reverse_string(string))\n"
      ],
      "metadata": {
        "colab": {
          "base_uri": "https://localhost:8080/"
        },
        "id": "vFKXC12PTNlF",
        "outputId": "5a06ab36-2b71-4c34-9b90-561b5a0b8718"
      },
      "execution_count": null,
      "outputs": [
        {
          "output_type": "stream",
          "name": "stdout",
          "text": [
            "edoc ecitcarp ziuq skeeg\n"
          ]
        }
      ]
    },
    {
      "cell_type": "code",
      "source": [
        "list_string=string.split()[::-1]\n",
        "print(list_string)\n",
        "# for i in list_string:\n",
        "#   print(i[-10,-1])"
      ],
      "metadata": {
        "colab": {
          "base_uri": "https://localhost:8080/"
        },
        "id": "NNz9O08aTszm",
        "outputId": "dea508b2-c130-4077-bba7-fd42e73b960d"
      },
      "execution_count": null,
      "outputs": [
        {
          "output_type": "stream",
          "name": "stdout",
          "text": [
            "['code', 'practice', 'quiz', 'geeks']\n"
          ]
        }
      ]
    },
    {
      "cell_type": "code",
      "source": [
        "string_joi=' '.join(list_string)"
      ],
      "metadata": {
        "id": "_q-u1-5PUFoG"
      },
      "execution_count": null,
      "outputs": []
    },
    {
      "cell_type": "code",
      "source": [
        "string_joi"
      ],
      "metadata": {
        "colab": {
          "base_uri": "https://localhost:8080/",
          "height": 35
        },
        "id": "sPWVO464U589",
        "outputId": "e86e3369-0324-46a7-b0f6-d91145206893"
      },
      "execution_count": null,
      "outputs": [
        {
          "output_type": "execute_result",
          "data": {
            "text/plain": [
              "'code practice quiz geeks'"
            ],
            "application/vnd.google.colaboratory.intrinsic+json": {
              "type": "string"
            }
          },
          "metadata": {},
          "execution_count": 11
        }
      ]
    },
    {
      "cell_type": "code",
      "source": [
        "print([i if i%2==0 else i+1 for i in range(4)]) \n"
      ],
      "metadata": {
        "colab": {
          "base_uri": "https://localhost:8080/"
        },
        "id": "qKphWn2wU7XX",
        "outputId": "4d51f6fc-ee5f-43b5-d62f-4a6db9eb8c3c"
      },
      "execution_count": null,
      "outputs": [
        {
          "output_type": "stream",
          "name": "stdout",
          "text": [
            "[0, 2, 2, 4]\n"
          ]
        }
      ]
    },
    {
      "cell_type": "code",
      "source": [
        "str1=input()\n",
        "substr=input()\n",
        "if substr in str1:\n",
        "  print(\"yes\")\n",
        "else:\n",
        "  print(\"no\")"
      ],
      "metadata": {
        "colab": {
          "base_uri": "https://localhost:8080/"
        },
        "id": "8OSvCgMHVm_1",
        "outputId": "e8c91253-92cf-442e-ddc5-759214910978"
      },
      "execution_count": null,
      "outputs": [
        {
          "output_type": "stream",
          "name": "stdout",
          "text": [
            "mohd\n",
            "taufique\n",
            "no\n"
          ]
        }
      ]
    },
    {
      "cell_type": "code",
      "source": [
        "def foo():\n",
        "    try:\n",
        "        return 1\n",
        "    finally:\n",
        "        return 2\n",
        "k = foo()\n",
        "print(k) "
      ],
      "metadata": {
        "id": "C1wcjYqIXN2K",
        "colab": {
          "base_uri": "https://localhost:8080/"
        },
        "outputId": "8a4e16b8-5d0d-4998-b3c9-6029dc7b3d0c"
      },
      "execution_count": null,
      "outputs": [
        {
          "output_type": "stream",
          "name": "stdout",
          "text": [
            "2\n"
          ]
        }
      ]
    },
    {
      "cell_type": "code",
      "source": [
        "num = int(input())\n",
        "if num > 1:\n",
        "    for i in range(2, int(num/2)+1):\n",
        "        if (num % i) == 0:\n",
        "            print(num, \"not a prime number\")\n",
        "            break\n",
        "    else:\n",
        "        print(num, \" is a Prime Number\")\n",
        "else:\n",
        "    print(num, \"not a prime number\")"
      ],
      "metadata": {
        "colab": {
          "base_uri": "https://localhost:8080/"
        },
        "id": "VrFb8JvfcAY7",
        "outputId": "45fd4213-98da-4892-eabf-e0bb638d58f2"
      },
      "execution_count": null,
      "outputs": [
        {
          "output_type": "stream",
          "name": "stdout",
          "text": [
            "11\n",
            "11  is a Prime Number\n"
          ]
        }
      ]
    },
    {
      "cell_type": "code",
      "source": [
        "list1= [1,2,3,4]\n",
        "list2=[1,2,3]\n",
        "common=[x for x in list1 if x in list2 ]\n",
        "print(common)"
      ],
      "metadata": {
        "colab": {
          "base_uri": "https://localhost:8080/"
        },
        "id": "bGl7HWrZd05T",
        "outputId": "ca25f9d9-15ae-4c7e-813e-b6804f60f670"
      },
      "execution_count": null,
      "outputs": [
        {
          "output_type": "stream",
          "name": "stdout",
          "text": [
            "[1, 2, 3]\n"
          ]
        }
      ]
    },
    {
      "cell_type": "code",
      "source": [
        "# div_3=[i for i in range(1000) if i%3==0]\n",
        "# div_3"
      ],
      "metadata": {
        "id": "m1_hrnXugJ5J"
      },
      "execution_count": null,
      "outputs": []
    },
    {
      "cell_type": "code",
      "source": [
        "#Write a list comprehension for producing a list of numbers between 1 and 1000 that are divisible by 3.\n",
        "# num_list=list(range(1000)) \n",
        "# num_list"
      ],
      "metadata": {
        "id": "33saTbyLfoHs"
      },
      "execution_count": null,
      "outputs": []
    },
    {
      "cell_type": "code",
      "source": [
        "def armstrong(num):\n",
        "  num_str=str(num)\n",
        "  num_len=len(num_str)\n",
        "  return num==sum([int(digit)**num_len for digit in num_str])\n",
        "num=int(input())\n",
        "if armstrong(num):\n",
        "  print(\"it is an armstrong number\")\n",
        "else:\n",
        "  print(\"it is not armstrong number\")\n"
      ],
      "metadata": {
        "id": "cFdwFbtTgHNn",
        "colab": {
          "base_uri": "https://localhost:8080/"
        },
        "outputId": "584c41ad-8842-4b5c-ef2f-85475718fc4a"
      },
      "execution_count": null,
      "outputs": [
        {
          "output_type": "stream",
          "name": "stdout",
          "text": [
            "153\n",
            "it is an armstrong number\n"
          ]
        }
      ]
    },
    {
      "cell_type": "code",
      "source": [
        "l=[1,2,3,4,5]\n",
        "[x and 1 for x in l] "
      ],
      "metadata": {
        "colab": {
          "base_uri": "https://localhost:8080/"
        },
        "id": "CPnyAh2TzZHp",
        "outputId": "fdb2e951-329f-43ba-a327-a11b012fd2c5"
      },
      "execution_count": null,
      "outputs": [
        {
          "output_type": "execute_result",
          "data": {
            "text/plain": [
              "[1, 1, 1, 1, 1]"
            ]
          },
          "metadata": {},
          "execution_count": 1
        }
      ]
    },
    {
      "cell_type": "code",
      "source": [
        "string_1=\"almabetter is the best\"\n",
        "list_str=string_1.split(\" \")\n",
        "even_len=[i for i in list_str if len(i)%2==0]\n",
        "# for i in list_str:\n",
        "#   if len(list_str[i])\n",
        "print(even_len)"
      ],
      "metadata": {
        "colab": {
          "base_uri": "https://localhost:8080/"
        },
        "id": "zssh7vDt0Ru7",
        "outputId": "cadf0452-62c0-4c9e-8649-f80fa94f26e3"
      },
      "execution_count": null,
      "outputs": [
        {
          "output_type": "stream",
          "name": "stdout",
          "text": [
            "['almabetter', 'is', 'best']\n"
          ]
        }
      ]
    },
    {
      "cell_type": "code",
      "source": [
        "div_2_5=[x for x in range(100) if x%2==0 and x%5==0]\n",
        "print(div_2_5)"
      ],
      "metadata": {
        "colab": {
          "base_uri": "https://localhost:8080/"
        },
        "id": "ReorcASB2lNV",
        "outputId": "5f33da6b-5829-43a5-f90d-175541ea58dd"
      },
      "execution_count": null,
      "outputs": [
        {
          "output_type": "stream",
          "name": "stdout",
          "text": [
            "[0, 10, 20, 30, 40, 50, 60, 70, 80, 90]\n"
          ]
        }
      ]
    },
    {
      "cell_type": "code",
      "source": [
        "def find_duplicates(lst):\n",
        "    \"\"\"\n",
        "    Returns a list of duplicate elements in the input list.\n",
        "    \"\"\"\n",
        "    duplicates = []\n",
        "    for item in lst:\n",
        "        if lst.count(item) > 1 and item not in duplicates:\n",
        "            duplicates.append(item)\n",
        "    return duplicates\n"
      ],
      "metadata": {
        "id": "YhAuFmVyXglv"
      },
      "execution_count": 1,
      "outputs": []
    },
    {
      "cell_type": "code",
      "source": [
        "my_list = [1, 2, 3, 4, 2, 5, 4, 6, 7, 8, 8]\n",
        "duplicates = find_duplicates(my_list)\n",
        "print(duplicates)  # Output: [2, 4, 8]\n"
      ],
      "metadata": {
        "colab": {
          "base_uri": "https://localhost:8080/"
        },
        "id": "xUEX_NL04ica",
        "outputId": "d16b4531-c288-44ca-e4e1-5ebe314edbcb"
      },
      "execution_count": 2,
      "outputs": [
        {
          "output_type": "stream",
          "name": "stdout",
          "text": [
            "[2, 4, 8]\n"
          ]
        }
      ]
    },
    {
      "cell_type": "code",
      "source": [
        "def find_duplicate_chars(string):\n",
        "    \"\"\"\n",
        "    Returns a list of duplicate characters in the input string.\n",
        "    \"\"\"\n",
        "    duplicates = []\n",
        "    for char in string:\n",
        "        if string.count(char) > 1 and char not in duplicates:\n",
        "            duplicates.append(char)\n",
        "    return duplicates\n"
      ],
      "metadata": {
        "id": "p8yZVWFZ4qAX"
      },
      "execution_count": 3,
      "outputs": []
    },
    {
      "cell_type": "code",
      "source": [
        "my_string = \"hello world\"\n",
        "duplicates = find_duplicate_chars(my_string)\n",
        "print(duplicates)  # Output: ['l', 'o']\n"
      ],
      "metadata": {
        "colab": {
          "base_uri": "https://localhost:8080/"
        },
        "id": "mAyL1qKk4wUD",
        "outputId": "2e58d5cd-8873-4e82-9cdf-5533dacdf4b7"
      },
      "execution_count": 4,
      "outputs": [
        {
          "output_type": "stream",
          "name": "stdout",
          "text": [
            "['l', 'o']\n"
          ]
        }
      ]
    },
    {
      "cell_type": "code",
      "source": [],
      "metadata": {
        "id": "7ylv7O36437K"
      },
      "execution_count": null,
      "outputs": []
    }
  ]
}